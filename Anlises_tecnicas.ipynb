{
  "nbformat": 4,
  "nbformat_minor": 0,
  "metadata": {
    "colab": {
      "provenance": [],
      "include_colab_link": true
    },
    "kernelspec": {
      "name": "python3",
      "display_name": "Python 3"
    },
    "language_info": {
      "name": "python"
    }
  },
  "cells": [
    {
      "cell_type": "markdown",
      "metadata": {
        "id": "view-in-github",
        "colab_type": "text"
      },
      "source": [
        "<a href=\"https://colab.research.google.com/github/gapigo/theras-frontend/blob/price-Modelo_1/Anlises_tecnicas.ipynb\" target=\"_parent\"><img src=\"https://colab.research.google.com/assets/colab-badge.svg\" alt=\"Open In Colab\"/></a>"
      ]
    },
    {
      "cell_type": "code",
      "execution_count": null,
      "metadata": {
        "id": "L91jWXEIKt35"
      },
      "outputs": [],
      "source": [
        "import yfinance as yf\n",
        "import pandas as pd\n",
        "import numpy as np\n",
        "import matplotlib.pyplot as plt\n",
        "import math"
      ]
    },
    {
      "cell_type": "code",
      "source": [
        "#pegando os dados do yfinance\n",
        "empresa = 'petr4.SA' \n",
        "acao = yf.Ticker(empresa)\n",
        "historico = acao.history(period = 'max', interval='1wk')\n",
        "historico"
      ],
      "metadata": {
        "colab": {
          "base_uri": "https://localhost:8080/",
          "height": 455
        },
        "id": "pcgRmj-zKwqm",
        "outputId": "3582cea4-bad4-4c5d-9a45-3e9daacfa5d2"
      },
      "execution_count": null,
      "outputs": [
        {
          "output_type": "execute_result",
          "data": {
            "text/plain": [
              "                                Open       High        Low      Close  \\\n",
              "Date                                                                    \n",
              "2000-01-03 00:00:00-02:00   1.872027   1.872027   1.744570   1.752536   \n",
              "2000-01-10 00:00:00-02:00   1.788543   1.788543   1.696774   1.720672   \n",
              "2000-01-17 00:00:00-02:00   1.700916   1.708882   1.656943   1.656943   \n",
              "2000-01-24 00:00:00-02:00   1.645154   1.664909   1.645154   1.653120   \n",
              "2000-01-31 00:00:00-02:00   1.625398   1.780577   1.625398   1.780577   \n",
              "...                              ...        ...        ...        ...   \n",
              "2023-03-13 00:00:00-03:00  24.549999  24.860001  22.799999  23.510000   \n",
              "2023-03-20 00:00:00-03:00  23.510000  23.670000  22.480000  22.790001   \n",
              "2023-03-27 00:00:00-03:00  23.110001  24.280001  22.830000  23.450001   \n",
              "2023-04-03 00:00:00-03:00  24.090000  24.760000  23.270000  24.000000   \n",
              "2023-04-10 00:00:00-03:00  24.030001  26.400000  24.030001  26.299999   \n",
              "\n",
              "                                 Volume  Dividends  Stock Splits  \n",
              "Date                                                              \n",
              "2000-01-03 00:00:00-02:00  162252800000        0.0           0.0  \n",
              "2000-01-10 00:00:00-02:00  109893120000        0.0           0.0  \n",
              "2000-01-17 00:00:00-02:00  117163520000        0.0           0.0  \n",
              "2000-01-24 00:00:00-02:00  100577280000        0.0           0.0  \n",
              "2000-01-31 00:00:00-02:00  117360640000        0.0           0.0  \n",
              "...                                 ...        ...           ...  \n",
              "2023-03-13 00:00:00-03:00     371554700        0.0           0.0  \n",
              "2023-03-20 00:00:00-03:00     274670000        0.0           0.0  \n",
              "2023-03-27 00:00:00-03:00     233053100        0.0           0.0  \n",
              "2023-04-03 00:00:00-03:00     254628700        0.0           0.0  \n",
              "2023-04-10 00:00:00-03:00     309045400        0.0           0.0  \n",
              "\n",
              "[1215 rows x 7 columns]"
            ],
            "text/html": [
              "\n",
              "  <div id=\"df-bc615f22-0f74-4186-baa0-3a045724e4b1\">\n",
              "    <div class=\"colab-df-container\">\n",
              "      <div>\n",
              "<style scoped>\n",
              "    .dataframe tbody tr th:only-of-type {\n",
              "        vertical-align: middle;\n",
              "    }\n",
              "\n",
              "    .dataframe tbody tr th {\n",
              "        vertical-align: top;\n",
              "    }\n",
              "\n",
              "    .dataframe thead th {\n",
              "        text-align: right;\n",
              "    }\n",
              "</style>\n",
              "<table border=\"1\" class=\"dataframe\">\n",
              "  <thead>\n",
              "    <tr style=\"text-align: right;\">\n",
              "      <th></th>\n",
              "      <th>Open</th>\n",
              "      <th>High</th>\n",
              "      <th>Low</th>\n",
              "      <th>Close</th>\n",
              "      <th>Volume</th>\n",
              "      <th>Dividends</th>\n",
              "      <th>Stock Splits</th>\n",
              "    </tr>\n",
              "    <tr>\n",
              "      <th>Date</th>\n",
              "      <th></th>\n",
              "      <th></th>\n",
              "      <th></th>\n",
              "      <th></th>\n",
              "      <th></th>\n",
              "      <th></th>\n",
              "      <th></th>\n",
              "    </tr>\n",
              "  </thead>\n",
              "  <tbody>\n",
              "    <tr>\n",
              "      <th>2000-01-03 00:00:00-02:00</th>\n",
              "      <td>1.872027</td>\n",
              "      <td>1.872027</td>\n",
              "      <td>1.744570</td>\n",
              "      <td>1.752536</td>\n",
              "      <td>162252800000</td>\n",
              "      <td>0.0</td>\n",
              "      <td>0.0</td>\n",
              "    </tr>\n",
              "    <tr>\n",
              "      <th>2000-01-10 00:00:00-02:00</th>\n",
              "      <td>1.788543</td>\n",
              "      <td>1.788543</td>\n",
              "      <td>1.696774</td>\n",
              "      <td>1.720672</td>\n",
              "      <td>109893120000</td>\n",
              "      <td>0.0</td>\n",
              "      <td>0.0</td>\n",
              "    </tr>\n",
              "    <tr>\n",
              "      <th>2000-01-17 00:00:00-02:00</th>\n",
              "      <td>1.700916</td>\n",
              "      <td>1.708882</td>\n",
              "      <td>1.656943</td>\n",
              "      <td>1.656943</td>\n",
              "      <td>117163520000</td>\n",
              "      <td>0.0</td>\n",
              "      <td>0.0</td>\n",
              "    </tr>\n",
              "    <tr>\n",
              "      <th>2000-01-24 00:00:00-02:00</th>\n",
              "      <td>1.645154</td>\n",
              "      <td>1.664909</td>\n",
              "      <td>1.645154</td>\n",
              "      <td>1.653120</td>\n",
              "      <td>100577280000</td>\n",
              "      <td>0.0</td>\n",
              "      <td>0.0</td>\n",
              "    </tr>\n",
              "    <tr>\n",
              "      <th>2000-01-31 00:00:00-02:00</th>\n",
              "      <td>1.625398</td>\n",
              "      <td>1.780577</td>\n",
              "      <td>1.625398</td>\n",
              "      <td>1.780577</td>\n",
              "      <td>117360640000</td>\n",
              "      <td>0.0</td>\n",
              "      <td>0.0</td>\n",
              "    </tr>\n",
              "    <tr>\n",
              "      <th>...</th>\n",
              "      <td>...</td>\n",
              "      <td>...</td>\n",
              "      <td>...</td>\n",
              "      <td>...</td>\n",
              "      <td>...</td>\n",
              "      <td>...</td>\n",
              "      <td>...</td>\n",
              "    </tr>\n",
              "    <tr>\n",
              "      <th>2023-03-13 00:00:00-03:00</th>\n",
              "      <td>24.549999</td>\n",
              "      <td>24.860001</td>\n",
              "      <td>22.799999</td>\n",
              "      <td>23.510000</td>\n",
              "      <td>371554700</td>\n",
              "      <td>0.0</td>\n",
              "      <td>0.0</td>\n",
              "    </tr>\n",
              "    <tr>\n",
              "      <th>2023-03-20 00:00:00-03:00</th>\n",
              "      <td>23.510000</td>\n",
              "      <td>23.670000</td>\n",
              "      <td>22.480000</td>\n",
              "      <td>22.790001</td>\n",
              "      <td>274670000</td>\n",
              "      <td>0.0</td>\n",
              "      <td>0.0</td>\n",
              "    </tr>\n",
              "    <tr>\n",
              "      <th>2023-03-27 00:00:00-03:00</th>\n",
              "      <td>23.110001</td>\n",
              "      <td>24.280001</td>\n",
              "      <td>22.830000</td>\n",
              "      <td>23.450001</td>\n",
              "      <td>233053100</td>\n",
              "      <td>0.0</td>\n",
              "      <td>0.0</td>\n",
              "    </tr>\n",
              "    <tr>\n",
              "      <th>2023-04-03 00:00:00-03:00</th>\n",
              "      <td>24.090000</td>\n",
              "      <td>24.760000</td>\n",
              "      <td>23.270000</td>\n",
              "      <td>24.000000</td>\n",
              "      <td>254628700</td>\n",
              "      <td>0.0</td>\n",
              "      <td>0.0</td>\n",
              "    </tr>\n",
              "    <tr>\n",
              "      <th>2023-04-10 00:00:00-03:00</th>\n",
              "      <td>24.030001</td>\n",
              "      <td>26.400000</td>\n",
              "      <td>24.030001</td>\n",
              "      <td>26.299999</td>\n",
              "      <td>309045400</td>\n",
              "      <td>0.0</td>\n",
              "      <td>0.0</td>\n",
              "    </tr>\n",
              "  </tbody>\n",
              "</table>\n",
              "<p>1215 rows × 7 columns</p>\n",
              "</div>\n",
              "      <button class=\"colab-df-convert\" onclick=\"convertToInteractive('df-bc615f22-0f74-4186-baa0-3a045724e4b1')\"\n",
              "              title=\"Convert this dataframe to an interactive table.\"\n",
              "              style=\"display:none;\">\n",
              "        \n",
              "  <svg xmlns=\"http://www.w3.org/2000/svg\" height=\"24px\"viewBox=\"0 0 24 24\"\n",
              "       width=\"24px\">\n",
              "    <path d=\"M0 0h24v24H0V0z\" fill=\"none\"/>\n",
              "    <path d=\"M18.56 5.44l.94 2.06.94-2.06 2.06-.94-2.06-.94-.94-2.06-.94 2.06-2.06.94zm-11 1L8.5 8.5l.94-2.06 2.06-.94-2.06-.94L8.5 2.5l-.94 2.06-2.06.94zm10 10l.94 2.06.94-2.06 2.06-.94-2.06-.94-.94-2.06-.94 2.06-2.06.94z\"/><path d=\"M17.41 7.96l-1.37-1.37c-.4-.4-.92-.59-1.43-.59-.52 0-1.04.2-1.43.59L10.3 9.45l-7.72 7.72c-.78.78-.78 2.05 0 2.83L4 21.41c.39.39.9.59 1.41.59.51 0 1.02-.2 1.41-.59l7.78-7.78 2.81-2.81c.8-.78.8-2.07 0-2.86zM5.41 20L4 18.59l7.72-7.72 1.47 1.35L5.41 20z\"/>\n",
              "  </svg>\n",
              "      </button>\n",
              "      \n",
              "  <style>\n",
              "    .colab-df-container {\n",
              "      display:flex;\n",
              "      flex-wrap:wrap;\n",
              "      gap: 12px;\n",
              "    }\n",
              "\n",
              "    .colab-df-convert {\n",
              "      background-color: #E8F0FE;\n",
              "      border: none;\n",
              "      border-radius: 50%;\n",
              "      cursor: pointer;\n",
              "      display: none;\n",
              "      fill: #1967D2;\n",
              "      height: 32px;\n",
              "      padding: 0 0 0 0;\n",
              "      width: 32px;\n",
              "    }\n",
              "\n",
              "    .colab-df-convert:hover {\n",
              "      background-color: #E2EBFA;\n",
              "      box-shadow: 0px 1px 2px rgba(60, 64, 67, 0.3), 0px 1px 3px 1px rgba(60, 64, 67, 0.15);\n",
              "      fill: #174EA6;\n",
              "    }\n",
              "\n",
              "    [theme=dark] .colab-df-convert {\n",
              "      background-color: #3B4455;\n",
              "      fill: #D2E3FC;\n",
              "    }\n",
              "\n",
              "    [theme=dark] .colab-df-convert:hover {\n",
              "      background-color: #434B5C;\n",
              "      box-shadow: 0px 1px 3px 1px rgba(0, 0, 0, 0.15);\n",
              "      filter: drop-shadow(0px 1px 2px rgba(0, 0, 0, 0.3));\n",
              "      fill: #FFFFFF;\n",
              "    }\n",
              "  </style>\n",
              "\n",
              "      <script>\n",
              "        const buttonEl =\n",
              "          document.querySelector('#df-bc615f22-0f74-4186-baa0-3a045724e4b1 button.colab-df-convert');\n",
              "        buttonEl.style.display =\n",
              "          google.colab.kernel.accessAllowed ? 'block' : 'none';\n",
              "\n",
              "        async function convertToInteractive(key) {\n",
              "          const element = document.querySelector('#df-bc615f22-0f74-4186-baa0-3a045724e4b1');\n",
              "          const dataTable =\n",
              "            await google.colab.kernel.invokeFunction('convertToInteractive',\n",
              "                                                     [key], {});\n",
              "          if (!dataTable) return;\n",
              "\n",
              "          const docLinkHtml = 'Like what you see? Visit the ' +\n",
              "            '<a target=\"_blank\" href=https://colab.research.google.com/notebooks/data_table.ipynb>data table notebook</a>'\n",
              "            + ' to learn more about interactive tables.';\n",
              "          element.innerHTML = '';\n",
              "          dataTable['output_type'] = 'display_data';\n",
              "          await google.colab.output.renderOutput(dataTable, element);\n",
              "          const docLink = document.createElement('div');\n",
              "          docLink.innerHTML = docLinkHtml;\n",
              "          element.appendChild(docLink);\n",
              "        }\n",
              "      </script>\n",
              "    </div>\n",
              "  </div>\n",
              "  "
            ]
          },
          "metadata": {},
          "execution_count": 2
        }
      ]
    },
    {
      "cell_type": "code",
      "source": [
        "len(historico)"
      ],
      "metadata": {
        "colab": {
          "base_uri": "https://localhost:8080/"
        },
        "id": "khdIcQCNvqog",
        "outputId": "2340f7cf-7252-4168-c775-cff5989fe9d2"
      },
      "execution_count": null,
      "outputs": [
        {
          "output_type": "execute_result",
          "data": {
            "text/plain": [
              "1215"
            ]
          },
          "metadata": {},
          "execution_count": 3
        }
      ]
    },
    {
      "cell_type": "code",
      "source": [
        "#queremos somente os dados de fechamento do dia, então vamos salvar um dataframe so com esses dados\n",
        "historico_fe = historico['Close'].to_list() #converter os dados em uma lista para tratamento"
      ],
      "metadata": {
        "id": "rIyXNfnKKzeO"
      },
      "execution_count": null,
      "outputs": []
    },
    {
      "cell_type": "code",
      "source": [
        "#vamos separar os dados em conjuntos para analises e calculos, esses conjuntos são moveis\n",
        "quant_dados_entrada = 100\n",
        "#vamos criar duas lista uma de dados de entrada e outra de dados de saida\n",
        "entrada = list()\n",
        "y = list()\n",
        "#vamos criar um sistema que vai retirar uma certa quantidade de dados e inserir nas respectivas listas\n",
        "for i in range(quant_dados_entrada, len(historico_fe)):\n",
        "    entrada.append(historico_fe[i - quant_dados_entrada: i])\n",
        "    y.append(historico_fe[i])"
      ],
      "metadata": {
        "id": "0YBaHLauK8Be"
      },
      "execution_count": null,
      "outputs": []
    },
    {
      "cell_type": "code",
      "source": [
        "len(entrada)"
      ],
      "metadata": {
        "colab": {
          "base_uri": "https://localhost:8080/"
        },
        "id": "HT-yppMP8EEV",
        "outputId": "760e373b-8f4a-42c2-f09a-10c75303b240"
      },
      "execution_count": null,
      "outputs": [
        {
          "output_type": "execute_result",
          "data": {
            "text/plain": [
              "1201"
            ]
          },
          "metadata": {},
          "execution_count": 6
        }
      ]
    },
    {
      "cell_type": "markdown",
      "source": [
        "indice de força relativa: é um indicador de análise técnica que ajuda a medir a força de uma tendência, comparando os ganhos recentes e as perdas recentes em um determinado mercado."
      ],
      "metadata": {
        "id": "NcujtXcoRv63"
      }
    },
    {
      "cell_type": "code",
      "source": [
        "#aqui vamos iniciar calculos e analises do indice de força relativa\n",
        "lista_de_rsi = [] #essa lista vai armazenar o valor do nosso indice\n",
        "for array in entrada: #vamos varrer o vetor e entrar nos (vetor)conjuntos\n",
        "  lista_pst = [] #esta lista armazena os valores positivos da media de valores positivos\n",
        "  lista_ngt = [] #esta lista armazena os valores negativos da media de valores negativos\n",
        "  \n",
        "  for a in range(0, len(array)-1): #para cada conjunto em nosso vetor\n",
        "    valores = array[a + 1] - array[a] #vamos subtrair o valor do indice a frente com o valor do indice anterior isso para todo o conjunto\n",
        "   \n",
        "    if valores < 0:\n",
        "      lista_ngt.append(valores) #atribuimos então a lista de valores negativos\n",
        "    elif valores > 0:\n",
        "      lista_pst.append(valores) #atribuimos então a lista de valores positivos\n",
        "    else:\n",
        "      continue #ignorado caso seja 0\n",
        "  \n",
        "  media_pst = 0\n",
        "  for valor in lista_pst: #vamos somar todos os valores positivos\n",
        "    media_pst+=valor\n",
        "  \n",
        "  media_ngt = 0\n",
        "  for valor in lista_ngt: #vamos somar todos os valores negativos\n",
        "    media_ngt+=valor\n",
        "\n",
        "  media_pst = media_pst/quant_dados_entrada #agora tiramos a media positiva\n",
        "  media_ngt = (media_ngt/quant_dados_entrada)*-1 #agora tiramos a media negativa e multiplicamos por -1 para que seja positivo\n",
        "  \n",
        "  rs = media_pst / media_ngt #dividimos a media positiva com a media negativa\n",
        "  \n",
        "  rsi = 100 - (100 / (1 + rs)) #calculamos o indice\n",
        "  lista_de_rsi.append(rsi) #atribuimos a lista "
      ],
      "metadata": {
        "id": "T4A4gbBVRiX1"
      },
      "execution_count": null,
      "outputs": []
    },
    {
      "cell_type": "code",
      "source": [
        "#indice de força relativa\n",
        "\"\"\"lista_pst = []\n",
        "lista_ngt = []\n",
        "\n",
        "for a in range(0, len(b[0])-1):\n",
        "  valores = b[0][a + 1] - b[0][a]\n",
        "  if valores < 0:\n",
        "    lista_ngt.append(valores)\n",
        "  elif valores > 0:\n",
        "    lista_pst.append(valores)\n",
        "  else:\n",
        "    continue\"\"\""
      ],
      "metadata": {
        "id": "mntaD-BX7s9d",
        "colab": {
          "base_uri": "https://localhost:8080/",
          "height": 55
        },
        "outputId": "3d156e82-ebee-4dd4-ac78-2f39b90e7643"
      },
      "execution_count": null,
      "outputs": [
        {
          "output_type": "execute_result",
          "data": {
            "text/plain": [
              "'lista_pst = []\\nlista_ngt = []\\n\\nfor a in range(0, len(b[0])-1):\\n  valores = b[0][a + 1] - b[0][a]\\n  if valores < 0:\\n    lista_ngt.append(valores)\\n  elif valores > 0:\\n    lista_pst.append(valores)\\n  else:\\n    continue'"
            ],
            "application/vnd.google.colaboratory.intrinsic+json": {
              "type": "string"
            }
          },
          "metadata": {},
          "execution_count": 8
        }
      ]
    },
    {
      "cell_type": "code",
      "source": [
        "\"\"\"media_pst = 0\n",
        "for valor in lista_pst:\n",
        "  media_pst+=valor\"\"\"\n"
      ],
      "metadata": {
        "id": "Jm3ZK9fFBi9W",
        "colab": {
          "base_uri": "https://localhost:8080/",
          "height": 36
        },
        "outputId": "b7d7b3aa-4ca5-4136-f664-252491839712"
      },
      "execution_count": null,
      "outputs": [
        {
          "output_type": "execute_result",
          "data": {
            "text/plain": [
              "'media_pst = 0\\nfor valor in lista_pst:\\n  media_pst+=valor'"
            ],
            "application/vnd.google.colaboratory.intrinsic+json": {
              "type": "string"
            }
          },
          "metadata": {},
          "execution_count": 9
        }
      ]
    },
    {
      "cell_type": "code",
      "source": [
        "\"\"\"media_ngt = 0\n",
        "for valor in lista_ngt:\n",
        "  media_ngt+=valor\"\"\""
      ],
      "metadata": {
        "id": "kkb96hNQCObd",
        "colab": {
          "base_uri": "https://localhost:8080/",
          "height": 36
        },
        "outputId": "213c094c-7b04-4771-a8a0-6719683473d3"
      },
      "execution_count": null,
      "outputs": [
        {
          "output_type": "execute_result",
          "data": {
            "text/plain": [
              "'media_ngt = 0\\nfor valor in lista_ngt:\\n  media_ngt+=valor'"
            ],
            "application/vnd.google.colaboratory.intrinsic+json": {
              "type": "string"
            }
          },
          "metadata": {},
          "execution_count": 10
        }
      ]
    },
    {
      "cell_type": "code",
      "source": [
        "\"\"\"media_pst = media_pst/len(lista_pst)\n",
        "media_ngt = media_ngt/len(lista_pst)*-1\n",
        "rs = media_pst / media_ngt\n",
        "rsi =100 - (100 / (1 + media_pst / media_ngt))\n",
        "media_pst, media_ngt, rs, rsi\"\"\"\n",
        "\n"
      ],
      "metadata": {
        "colab": {
          "base_uri": "https://localhost:8080/",
          "height": 55
        },
        "id": "ABXJiOD1BvGL",
        "outputId": "a17a1caf-69b5-4b3e-cb64-c38a939c8d69"
      },
      "execution_count": null,
      "outputs": [
        {
          "output_type": "execute_result",
          "data": {
            "text/plain": [
              "'media_pst = media_pst/len(lista_pst)\\nmedia_ngt = media_ngt/len(lista_pst)*-1\\nrs = media_pst / media_ngt\\nrsi =100 - (100 / (1 + media_pst / media_ngt))\\nmedia_pst, media_ngt, rs, rsi'"
            ],
            "application/vnd.google.colaboratory.intrinsic+json": {
              "type": "string"
            }
          },
          "metadata": {},
          "execution_count": 11
        }
      ]
    },
    {
      "cell_type": "code",
      "source": [
        "#vamos transformar os nossos valores de entrada em uma matriz para facilitar na criação de um dataframe\n",
        "x = np.array(entrada)"
      ],
      "metadata": {
        "id": "su9XNeC9OeKv"
      },
      "execution_count": null,
      "outputs": []
    },
    {
      "cell_type": "code",
      "source": [
        "#criamos o dataframe\n",
        "df_x = pd.DataFrame(x)\n",
        "#df_x = df_x.T\n",
        "df_x\n"
      ],
      "metadata": {
        "id": "adZzY2WmOCee",
        "colab": {
          "base_uri": "https://localhost:8080/",
          "height": 423
        },
        "outputId": "8e38b203-4afb-422a-e04a-819198ae51f6"
      },
      "execution_count": null,
      "outputs": [
        {
          "output_type": "execute_result",
          "data": {
            "text/plain": [
              "             0          1          2          3          4          5   \\\n",
              "0      1.752536   1.720672   1.656943   1.653120   1.780577   1.684985   \n",
              "1      1.720672   1.656943   1.653120   1.780577   1.684985   1.772611   \n",
              "2      1.656943   1.653120   1.780577   1.684985   1.772611   1.868204   \n",
              "3      1.653120   1.780577   1.684985   1.772611   1.868204   1.923966   \n",
              "4      1.780577   1.684985   1.772611   1.868204   1.923966   1.979729   \n",
              "...         ...        ...        ...        ...        ...        ...   \n",
              "1196  24.709999  22.049999  25.120001  24.500000  23.740000  24.570000   \n",
              "1197  22.049999  25.120001  24.500000  23.740000  24.570000  26.370001   \n",
              "1198  25.120001  24.500000  23.740000  24.570000  26.370001  25.620001   \n",
              "1199  24.500000  23.740000  24.570000  26.370001  25.620001  24.790001   \n",
              "1200  23.740000  24.570000  26.370001  25.620001  24.790001  26.719999   \n",
              "\n",
              "             6          7          8          9          10         11  \\\n",
              "0      1.772611   1.868204   1.923966   1.979729   1.868204   1.852272   \n",
              "1      1.868204   1.923966   1.979729   1.868204   1.852272   1.879994   \n",
              "2      1.923966   1.979729   1.868204   1.852272   1.879994   1.971763   \n",
              "3      1.979729   1.868204   1.852272   1.879994   1.971763   1.879994   \n",
              "4      1.868204   1.852272   1.879994   1.971763   1.879994   1.625080   \n",
              "...         ...        ...        ...        ...        ...        ...   \n",
              "1196  26.370001  25.620001  24.790001  26.719999  26.440001  25.900000   \n",
              "1197  25.620001  24.790001  26.719999  26.440001  25.900000  25.700001   \n",
              "1198  24.790001  26.719999  26.440001  25.900000  25.700001  24.980000   \n",
              "1199  26.719999  26.440001  25.900000  25.700001  24.980000  23.510000   \n",
              "1200  26.440001  25.900000  25.700001  24.980000  23.510000  22.790001   \n",
              "\n",
              "             12         13  \n",
              "0      1.879994   1.971763  \n",
              "1      1.971763   1.879994  \n",
              "2      1.879994   1.625080  \n",
              "3      1.625080   1.713024  \n",
              "4      1.713024   1.748713  \n",
              "...         ...        ...  \n",
              "1196  25.700001  24.980000  \n",
              "1197  24.980000  23.510000  \n",
              "1198  23.510000  22.790001  \n",
              "1199  22.790001  23.450001  \n",
              "1200  23.450001  24.000000  \n",
              "\n",
              "[1201 rows x 14 columns]"
            ],
            "text/html": [
              "\n",
              "  <div id=\"df-bc898347-c8d1-4506-862a-dc6d1ed98300\">\n",
              "    <div class=\"colab-df-container\">\n",
              "      <div>\n",
              "<style scoped>\n",
              "    .dataframe tbody tr th:only-of-type {\n",
              "        vertical-align: middle;\n",
              "    }\n",
              "\n",
              "    .dataframe tbody tr th {\n",
              "        vertical-align: top;\n",
              "    }\n",
              "\n",
              "    .dataframe thead th {\n",
              "        text-align: right;\n",
              "    }\n",
              "</style>\n",
              "<table border=\"1\" class=\"dataframe\">\n",
              "  <thead>\n",
              "    <tr style=\"text-align: right;\">\n",
              "      <th></th>\n",
              "      <th>0</th>\n",
              "      <th>1</th>\n",
              "      <th>2</th>\n",
              "      <th>3</th>\n",
              "      <th>4</th>\n",
              "      <th>5</th>\n",
              "      <th>6</th>\n",
              "      <th>7</th>\n",
              "      <th>8</th>\n",
              "      <th>9</th>\n",
              "      <th>10</th>\n",
              "      <th>11</th>\n",
              "      <th>12</th>\n",
              "      <th>13</th>\n",
              "    </tr>\n",
              "  </thead>\n",
              "  <tbody>\n",
              "    <tr>\n",
              "      <th>0</th>\n",
              "      <td>1.752536</td>\n",
              "      <td>1.720672</td>\n",
              "      <td>1.656943</td>\n",
              "      <td>1.653120</td>\n",
              "      <td>1.780577</td>\n",
              "      <td>1.684985</td>\n",
              "      <td>1.772611</td>\n",
              "      <td>1.868204</td>\n",
              "      <td>1.923966</td>\n",
              "      <td>1.979729</td>\n",
              "      <td>1.868204</td>\n",
              "      <td>1.852272</td>\n",
              "      <td>1.879994</td>\n",
              "      <td>1.971763</td>\n",
              "    </tr>\n",
              "    <tr>\n",
              "      <th>1</th>\n",
              "      <td>1.720672</td>\n",
              "      <td>1.656943</td>\n",
              "      <td>1.653120</td>\n",
              "      <td>1.780577</td>\n",
              "      <td>1.684985</td>\n",
              "      <td>1.772611</td>\n",
              "      <td>1.868204</td>\n",
              "      <td>1.923966</td>\n",
              "      <td>1.979729</td>\n",
              "      <td>1.868204</td>\n",
              "      <td>1.852272</td>\n",
              "      <td>1.879994</td>\n",
              "      <td>1.971763</td>\n",
              "      <td>1.879994</td>\n",
              "    </tr>\n",
              "    <tr>\n",
              "      <th>2</th>\n",
              "      <td>1.656943</td>\n",
              "      <td>1.653120</td>\n",
              "      <td>1.780577</td>\n",
              "      <td>1.684985</td>\n",
              "      <td>1.772611</td>\n",
              "      <td>1.868204</td>\n",
              "      <td>1.923966</td>\n",
              "      <td>1.979729</td>\n",
              "      <td>1.868204</td>\n",
              "      <td>1.852272</td>\n",
              "      <td>1.879994</td>\n",
              "      <td>1.971763</td>\n",
              "      <td>1.879994</td>\n",
              "      <td>1.625080</td>\n",
              "    </tr>\n",
              "    <tr>\n",
              "      <th>3</th>\n",
              "      <td>1.653120</td>\n",
              "      <td>1.780577</td>\n",
              "      <td>1.684985</td>\n",
              "      <td>1.772611</td>\n",
              "      <td>1.868204</td>\n",
              "      <td>1.923966</td>\n",
              "      <td>1.979729</td>\n",
              "      <td>1.868204</td>\n",
              "      <td>1.852272</td>\n",
              "      <td>1.879994</td>\n",
              "      <td>1.971763</td>\n",
              "      <td>1.879994</td>\n",
              "      <td>1.625080</td>\n",
              "      <td>1.713024</td>\n",
              "    </tr>\n",
              "    <tr>\n",
              "      <th>4</th>\n",
              "      <td>1.780577</td>\n",
              "      <td>1.684985</td>\n",
              "      <td>1.772611</td>\n",
              "      <td>1.868204</td>\n",
              "      <td>1.923966</td>\n",
              "      <td>1.979729</td>\n",
              "      <td>1.868204</td>\n",
              "      <td>1.852272</td>\n",
              "      <td>1.879994</td>\n",
              "      <td>1.971763</td>\n",
              "      <td>1.879994</td>\n",
              "      <td>1.625080</td>\n",
              "      <td>1.713024</td>\n",
              "      <td>1.748713</td>\n",
              "    </tr>\n",
              "    <tr>\n",
              "      <th>...</th>\n",
              "      <td>...</td>\n",
              "      <td>...</td>\n",
              "      <td>...</td>\n",
              "      <td>...</td>\n",
              "      <td>...</td>\n",
              "      <td>...</td>\n",
              "      <td>...</td>\n",
              "      <td>...</td>\n",
              "      <td>...</td>\n",
              "      <td>...</td>\n",
              "      <td>...</td>\n",
              "      <td>...</td>\n",
              "      <td>...</td>\n",
              "      <td>...</td>\n",
              "    </tr>\n",
              "    <tr>\n",
              "      <th>1196</th>\n",
              "      <td>24.709999</td>\n",
              "      <td>22.049999</td>\n",
              "      <td>25.120001</td>\n",
              "      <td>24.500000</td>\n",
              "      <td>23.740000</td>\n",
              "      <td>24.570000</td>\n",
              "      <td>26.370001</td>\n",
              "      <td>25.620001</td>\n",
              "      <td>24.790001</td>\n",
              "      <td>26.719999</td>\n",
              "      <td>26.440001</td>\n",
              "      <td>25.900000</td>\n",
              "      <td>25.700001</td>\n",
              "      <td>24.980000</td>\n",
              "    </tr>\n",
              "    <tr>\n",
              "      <th>1197</th>\n",
              "      <td>22.049999</td>\n",
              "      <td>25.120001</td>\n",
              "      <td>24.500000</td>\n",
              "      <td>23.740000</td>\n",
              "      <td>24.570000</td>\n",
              "      <td>26.370001</td>\n",
              "      <td>25.620001</td>\n",
              "      <td>24.790001</td>\n",
              "      <td>26.719999</td>\n",
              "      <td>26.440001</td>\n",
              "      <td>25.900000</td>\n",
              "      <td>25.700001</td>\n",
              "      <td>24.980000</td>\n",
              "      <td>23.510000</td>\n",
              "    </tr>\n",
              "    <tr>\n",
              "      <th>1198</th>\n",
              "      <td>25.120001</td>\n",
              "      <td>24.500000</td>\n",
              "      <td>23.740000</td>\n",
              "      <td>24.570000</td>\n",
              "      <td>26.370001</td>\n",
              "      <td>25.620001</td>\n",
              "      <td>24.790001</td>\n",
              "      <td>26.719999</td>\n",
              "      <td>26.440001</td>\n",
              "      <td>25.900000</td>\n",
              "      <td>25.700001</td>\n",
              "      <td>24.980000</td>\n",
              "      <td>23.510000</td>\n",
              "      <td>22.790001</td>\n",
              "    </tr>\n",
              "    <tr>\n",
              "      <th>1199</th>\n",
              "      <td>24.500000</td>\n",
              "      <td>23.740000</td>\n",
              "      <td>24.570000</td>\n",
              "      <td>26.370001</td>\n",
              "      <td>25.620001</td>\n",
              "      <td>24.790001</td>\n",
              "      <td>26.719999</td>\n",
              "      <td>26.440001</td>\n",
              "      <td>25.900000</td>\n",
              "      <td>25.700001</td>\n",
              "      <td>24.980000</td>\n",
              "      <td>23.510000</td>\n",
              "      <td>22.790001</td>\n",
              "      <td>23.450001</td>\n",
              "    </tr>\n",
              "    <tr>\n",
              "      <th>1200</th>\n",
              "      <td>23.740000</td>\n",
              "      <td>24.570000</td>\n",
              "      <td>26.370001</td>\n",
              "      <td>25.620001</td>\n",
              "      <td>24.790001</td>\n",
              "      <td>26.719999</td>\n",
              "      <td>26.440001</td>\n",
              "      <td>25.900000</td>\n",
              "      <td>25.700001</td>\n",
              "      <td>24.980000</td>\n",
              "      <td>23.510000</td>\n",
              "      <td>22.790001</td>\n",
              "      <td>23.450001</td>\n",
              "      <td>24.000000</td>\n",
              "    </tr>\n",
              "  </tbody>\n",
              "</table>\n",
              "<p>1201 rows × 14 columns</p>\n",
              "</div>\n",
              "      <button class=\"colab-df-convert\" onclick=\"convertToInteractive('df-bc898347-c8d1-4506-862a-dc6d1ed98300')\"\n",
              "              title=\"Convert this dataframe to an interactive table.\"\n",
              "              style=\"display:none;\">\n",
              "        \n",
              "  <svg xmlns=\"http://www.w3.org/2000/svg\" height=\"24px\"viewBox=\"0 0 24 24\"\n",
              "       width=\"24px\">\n",
              "    <path d=\"M0 0h24v24H0V0z\" fill=\"none\"/>\n",
              "    <path d=\"M18.56 5.44l.94 2.06.94-2.06 2.06-.94-2.06-.94-.94-2.06-.94 2.06-2.06.94zm-11 1L8.5 8.5l.94-2.06 2.06-.94-2.06-.94L8.5 2.5l-.94 2.06-2.06.94zm10 10l.94 2.06.94-2.06 2.06-.94-2.06-.94-.94-2.06-.94 2.06-2.06.94z\"/><path d=\"M17.41 7.96l-1.37-1.37c-.4-.4-.92-.59-1.43-.59-.52 0-1.04.2-1.43.59L10.3 9.45l-7.72 7.72c-.78.78-.78 2.05 0 2.83L4 21.41c.39.39.9.59 1.41.59.51 0 1.02-.2 1.41-.59l7.78-7.78 2.81-2.81c.8-.78.8-2.07 0-2.86zM5.41 20L4 18.59l7.72-7.72 1.47 1.35L5.41 20z\"/>\n",
              "  </svg>\n",
              "      </button>\n",
              "      \n",
              "  <style>\n",
              "    .colab-df-container {\n",
              "      display:flex;\n",
              "      flex-wrap:wrap;\n",
              "      gap: 12px;\n",
              "    }\n",
              "\n",
              "    .colab-df-convert {\n",
              "      background-color: #E8F0FE;\n",
              "      border: none;\n",
              "      border-radius: 50%;\n",
              "      cursor: pointer;\n",
              "      display: none;\n",
              "      fill: #1967D2;\n",
              "      height: 32px;\n",
              "      padding: 0 0 0 0;\n",
              "      width: 32px;\n",
              "    }\n",
              "\n",
              "    .colab-df-convert:hover {\n",
              "      background-color: #E2EBFA;\n",
              "      box-shadow: 0px 1px 2px rgba(60, 64, 67, 0.3), 0px 1px 3px 1px rgba(60, 64, 67, 0.15);\n",
              "      fill: #174EA6;\n",
              "    }\n",
              "\n",
              "    [theme=dark] .colab-df-convert {\n",
              "      background-color: #3B4455;\n",
              "      fill: #D2E3FC;\n",
              "    }\n",
              "\n",
              "    [theme=dark] .colab-df-convert:hover {\n",
              "      background-color: #434B5C;\n",
              "      box-shadow: 0px 1px 3px 1px rgba(0, 0, 0, 0.15);\n",
              "      filter: drop-shadow(0px 1px 2px rgba(0, 0, 0, 0.3));\n",
              "      fill: #FFFFFF;\n",
              "    }\n",
              "  </style>\n",
              "\n",
              "      <script>\n",
              "        const buttonEl =\n",
              "          document.querySelector('#df-bc898347-c8d1-4506-862a-dc6d1ed98300 button.colab-df-convert');\n",
              "        buttonEl.style.display =\n",
              "          google.colab.kernel.accessAllowed ? 'block' : 'none';\n",
              "\n",
              "        async function convertToInteractive(key) {\n",
              "          const element = document.querySelector('#df-bc898347-c8d1-4506-862a-dc6d1ed98300');\n",
              "          const dataTable =\n",
              "            await google.colab.kernel.invokeFunction('convertToInteractive',\n",
              "                                                     [key], {});\n",
              "          if (!dataTable) return;\n",
              "\n",
              "          const docLinkHtml = 'Like what you see? Visit the ' +\n",
              "            '<a target=\"_blank\" href=https://colab.research.google.com/notebooks/data_table.ipynb>data table notebook</a>'\n",
              "            + ' to learn more about interactive tables.';\n",
              "          element.innerHTML = '';\n",
              "          dataTable['output_type'] = 'display_data';\n",
              "          await google.colab.output.renderOutput(dataTable, element);\n",
              "          const docLink = document.createElement('div');\n",
              "          docLink.innerHTML = docLinkHtml;\n",
              "          element.appendChild(docLink);\n",
              "        }\n",
              "      </script>\n",
              "    </div>\n",
              "  </div>\n",
              "  "
            ]
          },
          "metadata": {},
          "execution_count": 13
        }
      ]
    },
    {
      "cell_type": "code",
      "source": [
        "#df_x.to_excel('teste.xlsx')"
      ],
      "metadata": {
        "id": "wcQhbgGNWF64"
      },
      "execution_count": null,
      "outputs": []
    },
    {
      "cell_type": "markdown",
      "source": [
        "Média móvel: é um indicador financeiro que ajuda a suavizar a volatilidade dos preços de uma ação, um ativo ou qualquer outro tipo de dado financeiro. "
      ],
      "metadata": {
        "id": "fJJcgUaHR_wB"
      }
    },
    {
      "cell_type": "code",
      "source": [
        "#calculamos a media movel e criamos um dataframe\n",
        "media_movel = pd.DataFrame(df_x.mean(axis=1), columns = ['media movel'])"
      ],
      "metadata": {
        "id": "vtaC46htT6Dj"
      },
      "execution_count": null,
      "outputs": []
    },
    {
      "cell_type": "code",
      "source": [
        "media_movel"
      ],
      "metadata": {
        "colab": {
          "base_uri": "https://localhost:8080/",
          "height": 423
        },
        "id": "V-94QzQiaHWL",
        "outputId": "4de6212e-665c-4262-fba2-9e3f804a07fe"
      },
      "execution_count": null,
      "outputs": [
        {
          "output_type": "execute_result",
          "data": {
            "text/plain": [
              "      media movel\n",
              "0        1.811827\n",
              "1        1.820931\n",
              "2        1.814103\n",
              "3        1.818109\n",
              "4        1.824937\n",
              "...           ...\n",
              "1196    25.086429\n",
              "1197    25.000714\n",
              "1198    25.053572\n",
              "1199    24.934286\n",
              "1200    24.898572\n",
              "\n",
              "[1201 rows x 1 columns]"
            ],
            "text/html": [
              "\n",
              "  <div id=\"df-66d2ef17-68f3-4e3b-b379-2444e4c9e906\">\n",
              "    <div class=\"colab-df-container\">\n",
              "      <div>\n",
              "<style scoped>\n",
              "    .dataframe tbody tr th:only-of-type {\n",
              "        vertical-align: middle;\n",
              "    }\n",
              "\n",
              "    .dataframe tbody tr th {\n",
              "        vertical-align: top;\n",
              "    }\n",
              "\n",
              "    .dataframe thead th {\n",
              "        text-align: right;\n",
              "    }\n",
              "</style>\n",
              "<table border=\"1\" class=\"dataframe\">\n",
              "  <thead>\n",
              "    <tr style=\"text-align: right;\">\n",
              "      <th></th>\n",
              "      <th>media movel</th>\n",
              "    </tr>\n",
              "  </thead>\n",
              "  <tbody>\n",
              "    <tr>\n",
              "      <th>0</th>\n",
              "      <td>1.811827</td>\n",
              "    </tr>\n",
              "    <tr>\n",
              "      <th>1</th>\n",
              "      <td>1.820931</td>\n",
              "    </tr>\n",
              "    <tr>\n",
              "      <th>2</th>\n",
              "      <td>1.814103</td>\n",
              "    </tr>\n",
              "    <tr>\n",
              "      <th>3</th>\n",
              "      <td>1.818109</td>\n",
              "    </tr>\n",
              "    <tr>\n",
              "      <th>4</th>\n",
              "      <td>1.824937</td>\n",
              "    </tr>\n",
              "    <tr>\n",
              "      <th>...</th>\n",
              "      <td>...</td>\n",
              "    </tr>\n",
              "    <tr>\n",
              "      <th>1196</th>\n",
              "      <td>25.086429</td>\n",
              "    </tr>\n",
              "    <tr>\n",
              "      <th>1197</th>\n",
              "      <td>25.000714</td>\n",
              "    </tr>\n",
              "    <tr>\n",
              "      <th>1198</th>\n",
              "      <td>25.053572</td>\n",
              "    </tr>\n",
              "    <tr>\n",
              "      <th>1199</th>\n",
              "      <td>24.934286</td>\n",
              "    </tr>\n",
              "    <tr>\n",
              "      <th>1200</th>\n",
              "      <td>24.898572</td>\n",
              "    </tr>\n",
              "  </tbody>\n",
              "</table>\n",
              "<p>1201 rows × 1 columns</p>\n",
              "</div>\n",
              "      <button class=\"colab-df-convert\" onclick=\"convertToInteractive('df-66d2ef17-68f3-4e3b-b379-2444e4c9e906')\"\n",
              "              title=\"Convert this dataframe to an interactive table.\"\n",
              "              style=\"display:none;\">\n",
              "        \n",
              "  <svg xmlns=\"http://www.w3.org/2000/svg\" height=\"24px\"viewBox=\"0 0 24 24\"\n",
              "       width=\"24px\">\n",
              "    <path d=\"M0 0h24v24H0V0z\" fill=\"none\"/>\n",
              "    <path d=\"M18.56 5.44l.94 2.06.94-2.06 2.06-.94-2.06-.94-.94-2.06-.94 2.06-2.06.94zm-11 1L8.5 8.5l.94-2.06 2.06-.94-2.06-.94L8.5 2.5l-.94 2.06-2.06.94zm10 10l.94 2.06.94-2.06 2.06-.94-2.06-.94-.94-2.06-.94 2.06-2.06.94z\"/><path d=\"M17.41 7.96l-1.37-1.37c-.4-.4-.92-.59-1.43-.59-.52 0-1.04.2-1.43.59L10.3 9.45l-7.72 7.72c-.78.78-.78 2.05 0 2.83L4 21.41c.39.39.9.59 1.41.59.51 0 1.02-.2 1.41-.59l7.78-7.78 2.81-2.81c.8-.78.8-2.07 0-2.86zM5.41 20L4 18.59l7.72-7.72 1.47 1.35L5.41 20z\"/>\n",
              "  </svg>\n",
              "      </button>\n",
              "      \n",
              "  <style>\n",
              "    .colab-df-container {\n",
              "      display:flex;\n",
              "      flex-wrap:wrap;\n",
              "      gap: 12px;\n",
              "    }\n",
              "\n",
              "    .colab-df-convert {\n",
              "      background-color: #E8F0FE;\n",
              "      border: none;\n",
              "      border-radius: 50%;\n",
              "      cursor: pointer;\n",
              "      display: none;\n",
              "      fill: #1967D2;\n",
              "      height: 32px;\n",
              "      padding: 0 0 0 0;\n",
              "      width: 32px;\n",
              "    }\n",
              "\n",
              "    .colab-df-convert:hover {\n",
              "      background-color: #E2EBFA;\n",
              "      box-shadow: 0px 1px 2px rgba(60, 64, 67, 0.3), 0px 1px 3px 1px rgba(60, 64, 67, 0.15);\n",
              "      fill: #174EA6;\n",
              "    }\n",
              "\n",
              "    [theme=dark] .colab-df-convert {\n",
              "      background-color: #3B4455;\n",
              "      fill: #D2E3FC;\n",
              "    }\n",
              "\n",
              "    [theme=dark] .colab-df-convert:hover {\n",
              "      background-color: #434B5C;\n",
              "      box-shadow: 0px 1px 3px 1px rgba(0, 0, 0, 0.15);\n",
              "      filter: drop-shadow(0px 1px 2px rgba(0, 0, 0, 0.3));\n",
              "      fill: #FFFFFF;\n",
              "    }\n",
              "  </style>\n",
              "\n",
              "      <script>\n",
              "        const buttonEl =\n",
              "          document.querySelector('#df-66d2ef17-68f3-4e3b-b379-2444e4c9e906 button.colab-df-convert');\n",
              "        buttonEl.style.display =\n",
              "          google.colab.kernel.accessAllowed ? 'block' : 'none';\n",
              "\n",
              "        async function convertToInteractive(key) {\n",
              "          const element = document.querySelector('#df-66d2ef17-68f3-4e3b-b379-2444e4c9e906');\n",
              "          const dataTable =\n",
              "            await google.colab.kernel.invokeFunction('convertToInteractive',\n",
              "                                                     [key], {});\n",
              "          if (!dataTable) return;\n",
              "\n",
              "          const docLinkHtml = 'Like what you see? Visit the ' +\n",
              "            '<a target=\"_blank\" href=https://colab.research.google.com/notebooks/data_table.ipynb>data table notebook</a>'\n",
              "            + ' to learn more about interactive tables.';\n",
              "          element.innerHTML = '';\n",
              "          dataTable['output_type'] = 'display_data';\n",
              "          await google.colab.output.renderOutput(dataTable, element);\n",
              "          const docLink = document.createElement('div');\n",
              "          docLink.innerHTML = docLinkHtml;\n",
              "          element.appendChild(docLink);\n",
              "        }\n",
              "      </script>\n",
              "    </div>\n",
              "  </div>\n",
              "  "
            ]
          },
          "metadata": {},
          "execution_count": 76
        }
      ]
    },
    {
      "cell_type": "code",
      "source": [
        "#criamos um dataframe de indice de força relativa\n",
        "ind_forc_relat = pd.DataFrame(lista_de_rsi, columns = ['Ind-forc-relat'])"
      ],
      "metadata": {
        "id": "UX-f5VCAaIxy"
      },
      "execution_count": null,
      "outputs": []
    },
    {
      "cell_type": "code",
      "source": [
        "#criamos um dataframe com os calores de y (saida)\n",
        "df_y = pd.DataFrame(y,columns = ['y'])"
      ],
      "metadata": {
        "id": "TtydsXbLP5cw"
      },
      "execution_count": null,
      "outputs": []
    },
    {
      "cell_type": "code",
      "source": [
        "df_y"
      ],
      "metadata": {
        "colab": {
          "base_uri": "https://localhost:8080/",
          "height": 423
        },
        "id": "ID0JCM1xQnNH",
        "outputId": "ee2363d1-893d-4898-dc6e-bfd639d23c85"
      },
      "execution_count": null,
      "outputs": [
        {
          "output_type": "execute_result",
          "data": {
            "text/plain": [
              "              y\n",
              "0      1.879994\n",
              "1      1.625080\n",
              "2      1.713024\n",
              "3      1.748713\n",
              "4      1.690720\n",
              "...         ...\n",
              "1196  23.510000\n",
              "1197  22.790001\n",
              "1198  23.450001\n",
              "1199  24.000000\n",
              "1200  26.299999\n",
              "\n",
              "[1201 rows x 1 columns]"
            ],
            "text/html": [
              "\n",
              "  <div id=\"df-3b355c06-01ed-451d-a971-3ba80a2ae6de\">\n",
              "    <div class=\"colab-df-container\">\n",
              "      <div>\n",
              "<style scoped>\n",
              "    .dataframe tbody tr th:only-of-type {\n",
              "        vertical-align: middle;\n",
              "    }\n",
              "\n",
              "    .dataframe tbody tr th {\n",
              "        vertical-align: top;\n",
              "    }\n",
              "\n",
              "    .dataframe thead th {\n",
              "        text-align: right;\n",
              "    }\n",
              "</style>\n",
              "<table border=\"1\" class=\"dataframe\">\n",
              "  <thead>\n",
              "    <tr style=\"text-align: right;\">\n",
              "      <th></th>\n",
              "      <th>y</th>\n",
              "    </tr>\n",
              "  </thead>\n",
              "  <tbody>\n",
              "    <tr>\n",
              "      <th>0</th>\n",
              "      <td>1.879994</td>\n",
              "    </tr>\n",
              "    <tr>\n",
              "      <th>1</th>\n",
              "      <td>1.625080</td>\n",
              "    </tr>\n",
              "    <tr>\n",
              "      <th>2</th>\n",
              "      <td>1.713024</td>\n",
              "    </tr>\n",
              "    <tr>\n",
              "      <th>3</th>\n",
              "      <td>1.748713</td>\n",
              "    </tr>\n",
              "    <tr>\n",
              "      <th>4</th>\n",
              "      <td>1.690720</td>\n",
              "    </tr>\n",
              "    <tr>\n",
              "      <th>...</th>\n",
              "      <td>...</td>\n",
              "    </tr>\n",
              "    <tr>\n",
              "      <th>1196</th>\n",
              "      <td>23.510000</td>\n",
              "    </tr>\n",
              "    <tr>\n",
              "      <th>1197</th>\n",
              "      <td>22.790001</td>\n",
              "    </tr>\n",
              "    <tr>\n",
              "      <th>1198</th>\n",
              "      <td>23.450001</td>\n",
              "    </tr>\n",
              "    <tr>\n",
              "      <th>1199</th>\n",
              "      <td>24.000000</td>\n",
              "    </tr>\n",
              "    <tr>\n",
              "      <th>1200</th>\n",
              "      <td>26.299999</td>\n",
              "    </tr>\n",
              "  </tbody>\n",
              "</table>\n",
              "<p>1201 rows × 1 columns</p>\n",
              "</div>\n",
              "      <button class=\"colab-df-convert\" onclick=\"convertToInteractive('df-3b355c06-01ed-451d-a971-3ba80a2ae6de')\"\n",
              "              title=\"Convert this dataframe to an interactive table.\"\n",
              "              style=\"display:none;\">\n",
              "        \n",
              "  <svg xmlns=\"http://www.w3.org/2000/svg\" height=\"24px\"viewBox=\"0 0 24 24\"\n",
              "       width=\"24px\">\n",
              "    <path d=\"M0 0h24v24H0V0z\" fill=\"none\"/>\n",
              "    <path d=\"M18.56 5.44l.94 2.06.94-2.06 2.06-.94-2.06-.94-.94-2.06-.94 2.06-2.06.94zm-11 1L8.5 8.5l.94-2.06 2.06-.94-2.06-.94L8.5 2.5l-.94 2.06-2.06.94zm10 10l.94 2.06.94-2.06 2.06-.94-2.06-.94-.94-2.06-.94 2.06-2.06.94z\"/><path d=\"M17.41 7.96l-1.37-1.37c-.4-.4-.92-.59-1.43-.59-.52 0-1.04.2-1.43.59L10.3 9.45l-7.72 7.72c-.78.78-.78 2.05 0 2.83L4 21.41c.39.39.9.59 1.41.59.51 0 1.02-.2 1.41-.59l7.78-7.78 2.81-2.81c.8-.78.8-2.07 0-2.86zM5.41 20L4 18.59l7.72-7.72 1.47 1.35L5.41 20z\"/>\n",
              "  </svg>\n",
              "      </button>\n",
              "      \n",
              "  <style>\n",
              "    .colab-df-container {\n",
              "      display:flex;\n",
              "      flex-wrap:wrap;\n",
              "      gap: 12px;\n",
              "    }\n",
              "\n",
              "    .colab-df-convert {\n",
              "      background-color: #E8F0FE;\n",
              "      border: none;\n",
              "      border-radius: 50%;\n",
              "      cursor: pointer;\n",
              "      display: none;\n",
              "      fill: #1967D2;\n",
              "      height: 32px;\n",
              "      padding: 0 0 0 0;\n",
              "      width: 32px;\n",
              "    }\n",
              "\n",
              "    .colab-df-convert:hover {\n",
              "      background-color: #E2EBFA;\n",
              "      box-shadow: 0px 1px 2px rgba(60, 64, 67, 0.3), 0px 1px 3px 1px rgba(60, 64, 67, 0.15);\n",
              "      fill: #174EA6;\n",
              "    }\n",
              "\n",
              "    [theme=dark] .colab-df-convert {\n",
              "      background-color: #3B4455;\n",
              "      fill: #D2E3FC;\n",
              "    }\n",
              "\n",
              "    [theme=dark] .colab-df-convert:hover {\n",
              "      background-color: #434B5C;\n",
              "      box-shadow: 0px 1px 3px 1px rgba(0, 0, 0, 0.15);\n",
              "      filter: drop-shadow(0px 1px 2px rgba(0, 0, 0, 0.3));\n",
              "      fill: #FFFFFF;\n",
              "    }\n",
              "  </style>\n",
              "\n",
              "      <script>\n",
              "        const buttonEl =\n",
              "          document.querySelector('#df-3b355c06-01ed-451d-a971-3ba80a2ae6de button.colab-df-convert');\n",
              "        buttonEl.style.display =\n",
              "          google.colab.kernel.accessAllowed ? 'block' : 'none';\n",
              "\n",
              "        async function convertToInteractive(key) {\n",
              "          const element = document.querySelector('#df-3b355c06-01ed-451d-a971-3ba80a2ae6de');\n",
              "          const dataTable =\n",
              "            await google.colab.kernel.invokeFunction('convertToInteractive',\n",
              "                                                     [key], {});\n",
              "          if (!dataTable) return;\n",
              "\n",
              "          const docLinkHtml = 'Like what you see? Visit the ' +\n",
              "            '<a target=\"_blank\" href=https://colab.research.google.com/notebooks/data_table.ipynb>data table notebook</a>'\n",
              "            + ' to learn more about interactive tables.';\n",
              "          element.innerHTML = '';\n",
              "          dataTable['output_type'] = 'display_data';\n",
              "          await google.colab.output.renderOutput(dataTable, element);\n",
              "          const docLink = document.createElement('div');\n",
              "          docLink.innerHTML = docLinkHtml;\n",
              "          element.appendChild(docLink);\n",
              "        }\n",
              "      </script>\n",
              "    </div>\n",
              "  </div>\n",
              "  "
            ]
          },
          "metadata": {},
          "execution_count": 19
        }
      ]
    },
    {
      "cell_type": "code",
      "source": [
        "ind_forc_relat"
      ],
      "metadata": {
        "id": "aRssq4iBOJJW",
        "colab": {
          "base_uri": "https://localhost:8080/",
          "height": 423
        },
        "outputId": "c63277b7-64fd-41c5-e644-b78e1d9dcf2a"
      },
      "execution_count": null,
      "outputs": [
        {
          "output_type": "execute_result",
          "data": {
            "text/plain": [
              "      Ind-forc-relat\n",
              "0          62.684414\n",
              "1          58.620671\n",
              "2          48.571456\n",
              "3          52.497341\n",
              "4          48.561554\n",
              "...              ...\n",
              "1196       50.900602\n",
              "1197       55.289858\n",
              "1198       39.825327\n",
              "1199       45.430812\n",
              "1200       51.152484\n",
              "\n",
              "[1201 rows x 1 columns]"
            ],
            "text/html": [
              "\n",
              "  <div id=\"df-fd3379ad-58be-4be0-9906-42e781b8f6df\">\n",
              "    <div class=\"colab-df-container\">\n",
              "      <div>\n",
              "<style scoped>\n",
              "    .dataframe tbody tr th:only-of-type {\n",
              "        vertical-align: middle;\n",
              "    }\n",
              "\n",
              "    .dataframe tbody tr th {\n",
              "        vertical-align: top;\n",
              "    }\n",
              "\n",
              "    .dataframe thead th {\n",
              "        text-align: right;\n",
              "    }\n",
              "</style>\n",
              "<table border=\"1\" class=\"dataframe\">\n",
              "  <thead>\n",
              "    <tr style=\"text-align: right;\">\n",
              "      <th></th>\n",
              "      <th>Ind-forc-relat</th>\n",
              "    </tr>\n",
              "  </thead>\n",
              "  <tbody>\n",
              "    <tr>\n",
              "      <th>0</th>\n",
              "      <td>62.684414</td>\n",
              "    </tr>\n",
              "    <tr>\n",
              "      <th>1</th>\n",
              "      <td>58.620671</td>\n",
              "    </tr>\n",
              "    <tr>\n",
              "      <th>2</th>\n",
              "      <td>48.571456</td>\n",
              "    </tr>\n",
              "    <tr>\n",
              "      <th>3</th>\n",
              "      <td>52.497341</td>\n",
              "    </tr>\n",
              "    <tr>\n",
              "      <th>4</th>\n",
              "      <td>48.561554</td>\n",
              "    </tr>\n",
              "    <tr>\n",
              "      <th>...</th>\n",
              "      <td>...</td>\n",
              "    </tr>\n",
              "    <tr>\n",
              "      <th>1196</th>\n",
              "      <td>50.900602</td>\n",
              "    </tr>\n",
              "    <tr>\n",
              "      <th>1197</th>\n",
              "      <td>55.289858</td>\n",
              "    </tr>\n",
              "    <tr>\n",
              "      <th>1198</th>\n",
              "      <td>39.825327</td>\n",
              "    </tr>\n",
              "    <tr>\n",
              "      <th>1199</th>\n",
              "      <td>45.430812</td>\n",
              "    </tr>\n",
              "    <tr>\n",
              "      <th>1200</th>\n",
              "      <td>51.152484</td>\n",
              "    </tr>\n",
              "  </tbody>\n",
              "</table>\n",
              "<p>1201 rows × 1 columns</p>\n",
              "</div>\n",
              "      <button class=\"colab-df-convert\" onclick=\"convertToInteractive('df-fd3379ad-58be-4be0-9906-42e781b8f6df')\"\n",
              "              title=\"Convert this dataframe to an interactive table.\"\n",
              "              style=\"display:none;\">\n",
              "        \n",
              "  <svg xmlns=\"http://www.w3.org/2000/svg\" height=\"24px\"viewBox=\"0 0 24 24\"\n",
              "       width=\"24px\">\n",
              "    <path d=\"M0 0h24v24H0V0z\" fill=\"none\"/>\n",
              "    <path d=\"M18.56 5.44l.94 2.06.94-2.06 2.06-.94-2.06-.94-.94-2.06-.94 2.06-2.06.94zm-11 1L8.5 8.5l.94-2.06 2.06-.94-2.06-.94L8.5 2.5l-.94 2.06-2.06.94zm10 10l.94 2.06.94-2.06 2.06-.94-2.06-.94-.94-2.06-.94 2.06-2.06.94z\"/><path d=\"M17.41 7.96l-1.37-1.37c-.4-.4-.92-.59-1.43-.59-.52 0-1.04.2-1.43.59L10.3 9.45l-7.72 7.72c-.78.78-.78 2.05 0 2.83L4 21.41c.39.39.9.59 1.41.59.51 0 1.02-.2 1.41-.59l7.78-7.78 2.81-2.81c.8-.78.8-2.07 0-2.86zM5.41 20L4 18.59l7.72-7.72 1.47 1.35L5.41 20z\"/>\n",
              "  </svg>\n",
              "      </button>\n",
              "      \n",
              "  <style>\n",
              "    .colab-df-container {\n",
              "      display:flex;\n",
              "      flex-wrap:wrap;\n",
              "      gap: 12px;\n",
              "    }\n",
              "\n",
              "    .colab-df-convert {\n",
              "      background-color: #E8F0FE;\n",
              "      border: none;\n",
              "      border-radius: 50%;\n",
              "      cursor: pointer;\n",
              "      display: none;\n",
              "      fill: #1967D2;\n",
              "      height: 32px;\n",
              "      padding: 0 0 0 0;\n",
              "      width: 32px;\n",
              "    }\n",
              "\n",
              "    .colab-df-convert:hover {\n",
              "      background-color: #E2EBFA;\n",
              "      box-shadow: 0px 1px 2px rgba(60, 64, 67, 0.3), 0px 1px 3px 1px rgba(60, 64, 67, 0.15);\n",
              "      fill: #174EA6;\n",
              "    }\n",
              "\n",
              "    [theme=dark] .colab-df-convert {\n",
              "      background-color: #3B4455;\n",
              "      fill: #D2E3FC;\n",
              "    }\n",
              "\n",
              "    [theme=dark] .colab-df-convert:hover {\n",
              "      background-color: #434B5C;\n",
              "      box-shadow: 0px 1px 3px 1px rgba(0, 0, 0, 0.15);\n",
              "      filter: drop-shadow(0px 1px 2px rgba(0, 0, 0, 0.3));\n",
              "      fill: #FFFFFF;\n",
              "    }\n",
              "  </style>\n",
              "\n",
              "      <script>\n",
              "        const buttonEl =\n",
              "          document.querySelector('#df-fd3379ad-58be-4be0-9906-42e781b8f6df button.colab-df-convert');\n",
              "        buttonEl.style.display =\n",
              "          google.colab.kernel.accessAllowed ? 'block' : 'none';\n",
              "\n",
              "        async function convertToInteractive(key) {\n",
              "          const element = document.querySelector('#df-fd3379ad-58be-4be0-9906-42e781b8f6df');\n",
              "          const dataTable =\n",
              "            await google.colab.kernel.invokeFunction('convertToInteractive',\n",
              "                                                     [key], {});\n",
              "          if (!dataTable) return;\n",
              "\n",
              "          const docLinkHtml = 'Like what you see? Visit the ' +\n",
              "            '<a target=\"_blank\" href=https://colab.research.google.com/notebooks/data_table.ipynb>data table notebook</a>'\n",
              "            + ' to learn more about interactive tables.';\n",
              "          element.innerHTML = '';\n",
              "          dataTable['output_type'] = 'display_data';\n",
              "          await google.colab.output.renderOutput(dataTable, element);\n",
              "          const docLink = document.createElement('div');\n",
              "          docLink.innerHTML = docLinkHtml;\n",
              "          element.appendChild(docLink);\n",
              "        }\n",
              "      </script>\n",
              "    </div>\n",
              "  </div>\n",
              "  "
            ]
          },
          "metadata": {},
          "execution_count": 20
        }
      ]
    },
    {
      "cell_type": "code",
      "source": [
        "plt.plot(df_y[1100:])\n",
        "plt.plot(media_movel[1100:])\n",
        "#plt.plot(ind_forc_relat[1100:])\n",
        "\n",
        "plt.show"
      ],
      "metadata": {
        "colab": {
          "base_uri": "https://localhost:8080/",
          "height": 448
        },
        "id": "Wv3LJnRuU_vv",
        "outputId": "b219f41c-29b9-4088-a3a8-f38cf8e4f7b6"
      },
      "execution_count": null,
      "outputs": [
        {
          "output_type": "execute_result",
          "data": {
            "text/plain": [
              "<function matplotlib.pyplot.show(close=None, block=None)>"
            ]
          },
          "metadata": {},
          "execution_count": 21
        },
        {
          "output_type": "display_data",
          "data": {
            "text/plain": [
              "<Figure size 640x480 with 1 Axes>"
            ],
            "image/png": "[encoded data removed]"
          },
          "metadata": {}
        }
      ]
    },
    {
      "cell_type": "markdown",
      "source": [
        "vamos trabalhar com as bandas de bollinger"
      ],
      "metadata": {
        "id": "90LGNr1wnYLc"
      }
    },
    {
      "cell_type": "code",
      "source": [
        "plt.plot(ind_forc_relat[1100:])\n",
        "plt.show()"
      ],
      "metadata": {
        "colab": {
          "base_uri": "https://localhost:8080/",
          "height": 430
        },
        "id": "wZONchHTi3iT",
        "outputId": "162f0168-a600-4f40-c8d8-29906fa2902d"
      },
      "execution_count": null,
      "outputs": [
        {
          "output_type": "display_data",
          "data": {
            "text/plain": [
              "<Figure size 640x480 with 1 Axes>"
            ],
            "image/png": "[encoded data removed]"
          },
          "metadata": {}
        }
      ]
    },
    {
      "cell_type": "markdown",
      "source": [
        "calculo de desvio padrão"
      ],
      "metadata": {
        "id": "lqsVDRlJRnRk"
      }
    },
    {
      "cell_type": "markdown",
      "source": [
        "Desvio padrão: é uma medida estatística que indica o quanto os dados se desviam da média."
      ],
      "metadata": {
        "id": "BN3WefYQSjnn"
      }
    },
    {
      "cell_type": "code",
      "source": [
        "#vamos trabalhar agora com o desvio padrão para calcular as bandas de 6bollinger\n",
        "lista_desvio_padrao = list()\n",
        "for cont, array in enumerate(entrada): #vamos varrer o vetor e entrar nos (vetor)conjuntos\n",
        "  lista_quad_dif = list()\n",
        "  lista_dif = list() #esta lista armazena os valores da diferença do elemento da frente e o anterior\n",
        "\n",
        "  for a in range(0, len(array)-1): #para cada conjunto em nosso vetor\n",
        "    valores = array[a] - media_movel['media movel'][cont] #vamos subtrair o valor do indice a frente com o valor do indice anterior isso para todo o conjunto\n",
        "    lista_dif.append(valores)\n",
        "  for valor in lista_dif:\n",
        "    lista_quad_dif.append(valor**2)\n",
        "  soma_quad_dif = 0\n",
        "  for valor in lista_quad_dif:\n",
        "    soma_quad_dif += valor\n",
        "  media_soma_quad_dif = soma_quad_dif/(quant_dados_entrada-1)\n",
        "  desvio_padrao = math.sqrt(media_soma_quad_dif)\n",
        "  lista_desvio_padrao.append(desvio_padrao)"
      ],
      "metadata": {
        "id": "zz-xKkrYMOdb"
      },
      "execution_count": null,
      "outputs": []
    },
    {
      "cell_type": "markdown",
      "source": [
        "calculo de bandas de bollinger\n",
        "\n",
        "Banda Superior de Bollinger = media movel de tempo + (2 x desvio padrão)\n",
        "\n",
        "Banda Inferior de Bollinger = media movel de tempo - (2 x desvio padrão)\n",
        "\n",
        "As bandas de Bollinger são um indicador de análise técnica usado para avaliar a volatilidade do preço de um ativo em relação a um período de tempo específico. "
      ],
      "metadata": {
        "id": "ntFLxLU2lcgN"
      }
    },
    {
      "cell_type": "code",
      "source": [
        "lista_banda_sup_boll = list()\n",
        "lista_banda_inf_boll = list()\n",
        "for cont, valor in enumerate(lista_desvio_padrao):\n",
        "  lista_banda_sup_boll.append(media_movel['media movel'][cont] + (valor * 2))\n",
        "  lista_banda_inf_boll.append(media_movel['media movel'][cont] - (valor * 2))"
      ],
      "metadata": {
        "id": "aI_mZb2HXyB1"
      },
      "execution_count": null,
      "outputs": []
    },
    {
      "cell_type": "code",
      "source": [
        "banda_sup_boll = pd.DataFrame(lista_banda_sup_boll, columns = ['banda sup boll'])\n"
      ],
      "metadata": {
        "id": "o0xGBot7Xiy-"
      },
      "execution_count": null,
      "outputs": []
    },
    {
      "cell_type": "code",
      "source": [
        "banda_inf_boll = pd.DataFrame(lista_banda_inf_boll, columns = ['banda inf boll'])"
      ],
      "metadata": {
        "id": "O8zJPZP4pTsR"
      },
      "execution_count": null,
      "outputs": []
    },
    {
      "cell_type": "code",
      "source": [
        "plt.plot(df_y[1100:])\n",
        "plt.plot(media_movel[1100:])\n",
        "plt.plot(banda_inf_boll[1100:])\n",
        "plt.plot(banda_sup_boll[1100:])\n",
        "#plt.plot(ind_forc_relat[1100:])\n",
        "\n",
        "plt.show"
      ],
      "metadata": {
        "colab": {
          "base_uri": "https://localhost:8080/",
          "height": 448
        },
        "id": "HclePd4eRqzx",
        "outputId": "b69e66c0-bda9-4603-8365-3099151c3a23"
      },
      "execution_count": null,
      "outputs": [
        {
          "output_type": "execute_result",
          "data": {
            "text/plain": [
              "<function matplotlib.pyplot.show(close=None, block=None)>"
            ]
          },
          "metadata": {},
          "execution_count": 27
        },
        {
          "output_type": "display_data",
          "data": {
            "text/plain": [
              "<Figure size 640x480 with 1 Axes>"
            ],
            "image/png": "[encoded data removed]"
          },
          "metadata": {}
        }
      ]
    },
    {
      "cell_type": "markdown",
      "source": [
        "O MACD (Moving Average Convergence Divergence) é um indicador técnico utilizado para identificar mudanças na tendência de um ativo financeiro. Ele é calculado subtraindo a média móvel exponencial de curto prazo (EMA) da média móvel exponencial de longo prazo (EMA).\n",
        "\n",
        "EMA(curto prazo) = (Preço de fechamento - EMA(curto prazo anterior)) x (2 / (N + 1)) + EMA(curto prazo anterior),"
      ],
      "metadata": {
        "id": "rwOYnhLasNEN"
      }
    },
    {
      "cell_type": "code",
      "source": [
        "#vamos separar os dados em conjuntos para analises e calculos, esses conjuntos são moveis\n",
        "quant_dados_curto_prazo = round(quant_dados_entrada*0.46) #vou definir o tamanho\n",
        "\n",
        "'''\n",
        "#vamos criar duas lista uma de dados de entrada e outra de dados de saida\n",
        "valores_curto_prazo = list()\n",
        "#y = list()\n",
        "#vamos criar um sistema que vai retirar uma certa quantidade de dados e inserir nas respectivas listas\n",
        "for i in range(quant_dados_curto_prazo, len(historico_fe)):\n",
        "    valores_curto_prazo.append(historico_fe[i - quant_dados_curto_prazo: i])\n",
        "    #y.append(historico_fe[i])\n",
        "  '''  \n"
      ],
      "metadata": {
        "id": "QjzsJmezQ6oR",
        "colab": {
          "base_uri": "https://localhost:8080/",
          "height": 350
        },
        "outputId": "57c70bba-f02f-419b-8f4f-cff325b472a0"
      },
      "execution_count": null,
      "outputs": [
        {
          "output_type": "stream",
          "name": "stdout",
          "text": [
            "         0         1         2         3         4         5         6   \\\n",
            "0  1.752536  1.720672  1.656943  1.653120  1.780577  1.684985  1.772611   \n",
            "1  1.720672  1.656943  1.653120  1.780577  1.684985  1.772611  1.868204   \n",
            "2  1.656943  1.653120  1.780577  1.684985  1.772611  1.868204  1.923966   \n",
            "3  1.653120  1.780577  1.684985  1.772611  1.868204  1.923966  1.979729   \n",
            "4  1.780577  1.684985  1.772611  1.868204  1.923966  1.979729  1.868204   \n",
            "5  1.684985  1.772611  1.868204  1.923966  1.979729  1.868204  1.852272   \n",
            "\n",
            "         7         8         9         10        11        12        13  \n",
            "0  1.868204  1.923966  1.979729  1.868204  1.852272  1.879994  1.971763  \n",
            "1  1.923966  1.979729  1.868204  1.852272  1.879994  1.971763  1.879994  \n",
            "2  1.979729  1.868204  1.852272  1.879994  1.971763  1.879994  1.625080  \n",
            "3  1.868204  1.852272  1.879994  1.971763  1.879994  1.625080  1.713024  \n",
            "4  1.852272  1.879994  1.971763  1.879994  1.625080  1.713024  1.748713  \n",
            "5  1.879994  1.971763  1.879994  1.625080  1.713024  1.748713  1.690720  \n"
          ]
        },
        {
          "output_type": "execute_result",
          "data": {
            "text/plain": [
              "'\\n#vamos criar duas lista uma de dados de entrada e outra de dados de saida\\nvalores_curto_prazo = list()\\n#y = list()\\n#vamos criar um sistema que vai retirar uma certa quantidade de dados e inserir nas respectivas listas\\nfor i in range(quant_dados_curto_prazo, len(historico_fe)):\\n    valores_curto_prazo.append(historico_fe[i - quant_dados_curto_prazo: i])\\n    #y.append(historico_fe[i])\\n  '"
            ],
            "application/vnd.google.colaboratory.intrinsic+json": {
              "type": "string"
            }
          },
          "metadata": {},
          "execution_count": 45
        }
      ]
    },
    {
      "cell_type": "code",
      "source": [
        "#vamos criar um dataframe com valores de curto prazo para poder calcular o MCA\n",
        "df_curto_prazo = pd.DataFrame()\n",
        "for a in range(0,quant_dados_curto_prazo):\n",
        "  df_curto_prazo.insert(a,a,df_x[a])\n",
        "#vamos calcular a ema de curto prazo\n",
        "df_media_curto_prazo= pd.DataFrame(df_curto_prazo.mean(axis=1),columns = ['media'])"
      ],
      "metadata": {
        "id": "YJ1Fxa96DM-E"
      },
      "execution_count": null,
      "outputs": []
    },
    {
      "cell_type": "code",
      "source": [
        "df_curto_prazo"
      ],
      "metadata": {
        "colab": {
          "base_uri": "https://localhost:8080/",
          "height": 423
        },
        "id": "iPeGr8-YEn_z",
        "outputId": "52890494-f7f8-41d3-c501-913d8deab54d"
      },
      "execution_count": null,
      "outputs": [
        {
          "output_type": "execute_result",
          "data": {
            "text/plain": [
              "              0          1          2          3          4          5\n",
              "0      1.752536   1.720672   1.656943   1.653120   1.780577   1.684985\n",
              "1      1.720672   1.656943   1.653120   1.780577   1.684985   1.772611\n",
              "2      1.656943   1.653120   1.780577   1.684985   1.772611   1.868204\n",
              "3      1.653120   1.780577   1.684985   1.772611   1.868204   1.923966\n",
              "4      1.780577   1.684985   1.772611   1.868204   1.923966   1.979729\n",
              "...         ...        ...        ...        ...        ...        ...\n",
              "1196  24.709999  22.049999  25.120001  24.500000  23.740000  24.570000\n",
              "1197  22.049999  25.120001  24.500000  23.740000  24.570000  26.370001\n",
              "1198  25.120001  24.500000  23.740000  24.570000  26.370001  25.620001\n",
              "1199  24.500000  23.740000  24.570000  26.370001  25.620001  24.790001\n",
              "1200  23.740000  24.570000  26.370001  25.620001  24.790001  26.719999\n",
              "\n",
              "[1201 rows x 6 columns]"
            ],
            "text/html": [
              "\n",
              "  <div id=\"df-c81de879-2b14-4855-a4eb-ddc4db083386\">\n",
              "    <div class=\"colab-df-container\">\n",
              "      <div>\n",
              "<style scoped>\n",
              "    .dataframe tbody tr th:only-of-type {\n",
              "        vertical-align: middle;\n",
              "    }\n",
              "\n",
              "    .dataframe tbody tr th {\n",
              "        vertical-align: top;\n",
              "    }\n",
              "\n",
              "    .dataframe thead th {\n",
              "        text-align: right;\n",
              "    }\n",
              "</style>\n",
              "<table border=\"1\" class=\"dataframe\">\n",
              "  <thead>\n",
              "    <tr style=\"text-align: right;\">\n",
              "      <th></th>\n",
              "      <th>0</th>\n",
              "      <th>1</th>\n",
              "      <th>2</th>\n",
              "      <th>3</th>\n",
              "      <th>4</th>\n",
              "      <th>5</th>\n",
              "    </tr>\n",
              "  </thead>\n",
              "  <tbody>\n",
              "    <tr>\n",
              "      <th>0</th>\n",
              "      <td>1.752536</td>\n",
              "      <td>1.720672</td>\n",
              "      <td>1.656943</td>\n",
              "      <td>1.653120</td>\n",
              "      <td>1.780577</td>\n",
              "      <td>1.684985</td>\n",
              "    </tr>\n",
              "    <tr>\n",
              "      <th>1</th>\n",
              "      <td>1.720672</td>\n",
              "      <td>1.656943</td>\n",
              "      <td>1.653120</td>\n",
              "      <td>1.780577</td>\n",
              "      <td>1.684985</td>\n",
              "      <td>1.772611</td>\n",
              "    </tr>\n",
              "    <tr>\n",
              "      <th>2</th>\n",
              "      <td>1.656943</td>\n",
              "      <td>1.653120</td>\n",
              "      <td>1.780577</td>\n",
              "      <td>1.684985</td>\n",
              "      <td>1.772611</td>\n",
              "      <td>1.868204</td>\n",
              "    </tr>\n",
              "    <tr>\n",
              "      <th>3</th>\n",
              "      <td>1.653120</td>\n",
              "      <td>1.780577</td>\n",
              "      <td>1.684985</td>\n",
              "      <td>1.772611</td>\n",
              "      <td>1.868204</td>\n",
              "      <td>1.923966</td>\n",
              "    </tr>\n",
              "    <tr>\n",
              "      <th>4</th>\n",
              "      <td>1.780577</td>\n",
              "      <td>1.684985</td>\n",
              "      <td>1.772611</td>\n",
              "      <td>1.868204</td>\n",
              "      <td>1.923966</td>\n",
              "      <td>1.979729</td>\n",
              "    </tr>\n",
              "    <tr>\n",
              "      <th>...</th>\n",
              "      <td>...</td>\n",
              "      <td>...</td>\n",
              "      <td>...</td>\n",
              "      <td>...</td>\n",
              "      <td>...</td>\n",
              "      <td>...</td>\n",
              "    </tr>\n",
              "    <tr>\n",
              "      <th>1196</th>\n",
              "      <td>24.709999</td>\n",
              "      <td>22.049999</td>\n",
              "      <td>25.120001</td>\n",
              "      <td>24.500000</td>\n",
              "      <td>23.740000</td>\n",
              "      <td>24.570000</td>\n",
              "    </tr>\n",
              "    <tr>\n",
              "      <th>1197</th>\n",
              "      <td>22.049999</td>\n",
              "      <td>25.120001</td>\n",
              "      <td>24.500000</td>\n",
              "      <td>23.740000</td>\n",
              "      <td>24.570000</td>\n",
              "      <td>26.370001</td>\n",
              "    </tr>\n",
              "    <tr>\n",
              "      <th>1198</th>\n",
              "      <td>25.120001</td>\n",
              "      <td>24.500000</td>\n",
              "      <td>23.740000</td>\n",
              "      <td>24.570000</td>\n",
              "      <td>26.370001</td>\n",
              "      <td>25.620001</td>\n",
              "    </tr>\n",
              "    <tr>\n",
              "      <th>1199</th>\n",
              "      <td>24.500000</td>\n",
              "      <td>23.740000</td>\n",
              "      <td>24.570000</td>\n",
              "      <td>26.370001</td>\n",
              "      <td>25.620001</td>\n",
              "      <td>24.790001</td>\n",
              "    </tr>\n",
              "    <tr>\n",
              "      <th>1200</th>\n",
              "      <td>23.740000</td>\n",
              "      <td>24.570000</td>\n",
              "      <td>26.370001</td>\n",
              "      <td>25.620001</td>\n",
              "      <td>24.790001</td>\n",
              "      <td>26.719999</td>\n",
              "    </tr>\n",
              "  </tbody>\n",
              "</table>\n",
              "<p>1201 rows × 6 columns</p>\n",
              "</div>\n",
              "      <button class=\"colab-df-convert\" onclick=\"convertToInteractive('df-c81de879-2b14-4855-a4eb-ddc4db083386')\"\n",
              "              title=\"Convert this dataframe to an interactive table.\"\n",
              "              style=\"display:none;\">\n",
              "        \n",
              "  <svg xmlns=\"http://www.w3.org/2000/svg\" height=\"24px\"viewBox=\"0 0 24 24\"\n",
              "       width=\"24px\">\n",
              "    <path d=\"M0 0h24v24H0V0z\" fill=\"none\"/>\n",
              "    <path d=\"M18.56 5.44l.94 2.06.94-2.06 2.06-.94-2.06-.94-.94-2.06-.94 2.06-2.06.94zm-11 1L8.5 8.5l.94-2.06 2.06-.94-2.06-.94L8.5 2.5l-.94 2.06-2.06.94zm10 10l.94 2.06.94-2.06 2.06-.94-2.06-.94-.94-2.06-.94 2.06-2.06.94z\"/><path d=\"M17.41 7.96l-1.37-1.37c-.4-.4-.92-.59-1.43-.59-.52 0-1.04.2-1.43.59L10.3 9.45l-7.72 7.72c-.78.78-.78 2.05 0 2.83L4 21.41c.39.39.9.59 1.41.59.51 0 1.02-.2 1.41-.59l7.78-7.78 2.81-2.81c.8-.78.8-2.07 0-2.86zM5.41 20L4 18.59l7.72-7.72 1.47 1.35L5.41 20z\"/>\n",
              "  </svg>\n",
              "      </button>\n",
              "      \n",
              "  <style>\n",
              "    .colab-df-container {\n",
              "      display:flex;\n",
              "      flex-wrap:wrap;\n",
              "      gap: 12px;\n",
              "    }\n",
              "\n",
              "    .colab-df-convert {\n",
              "      background-color: #E8F0FE;\n",
              "      border: none;\n",
              "      border-radius: 50%;\n",
              "      cursor: pointer;\n",
              "      display: none;\n",
              "      fill: #1967D2;\n",
              "      height: 32px;\n",
              "      padding: 0 0 0 0;\n",
              "      width: 32px;\n",
              "    }\n",
              "\n",
              "    .colab-df-convert:hover {\n",
              "      background-color: #E2EBFA;\n",
              "      box-shadow: 0px 1px 2px rgba(60, 64, 67, 0.3), 0px 1px 3px 1px rgba(60, 64, 67, 0.15);\n",
              "      fill: #174EA6;\n",
              "    }\n",
              "\n",
              "    [theme=dark] .colab-df-convert {\n",
              "      background-color: #3B4455;\n",
              "      fill: #D2E3FC;\n",
              "    }\n",
              "\n",
              "    [theme=dark] .colab-df-convert:hover {\n",
              "      background-color: #434B5C;\n",
              "      box-shadow: 0px 1px 3px 1px rgba(0, 0, 0, 0.15);\n",
              "      filter: drop-shadow(0px 1px 2px rgba(0, 0, 0, 0.3));\n",
              "      fill: #FFFFFF;\n",
              "    }\n",
              "  </style>\n",
              "\n",
              "      <script>\n",
              "        const buttonEl =\n",
              "          document.querySelector('#df-c81de879-2b14-4855-a4eb-ddc4db083386 button.colab-df-convert');\n",
              "        buttonEl.style.display =\n",
              "          google.colab.kernel.accessAllowed ? 'block' : 'none';\n",
              "\n",
              "        async function convertToInteractive(key) {\n",
              "          const element = document.querySelector('#df-c81de879-2b14-4855-a4eb-ddc4db083386');\n",
              "          const dataTable =\n",
              "            await google.colab.kernel.invokeFunction('convertToInteractive',\n",
              "                                                     [key], {});\n",
              "          if (!dataTable) return;\n",
              "\n",
              "          const docLinkHtml = 'Like what you see? Visit the ' +\n",
              "            '<a target=\"_blank\" href=https://colab.research.google.com/notebooks/data_table.ipynb>data table notebook</a>'\n",
              "            + ' to learn more about interactive tables.';\n",
              "          element.innerHTML = '';\n",
              "          dataTable['output_type'] = 'display_data';\n",
              "          await google.colab.output.renderOutput(dataTable, element);\n",
              "          const docLink = document.createElement('div');\n",
              "          docLink.innerHTML = docLinkHtml;\n",
              "          element.appendChild(docLink);\n",
              "        }\n",
              "      </script>\n",
              "    </div>\n",
              "  </div>\n",
              "  "
            ]
          },
          "metadata": {},
          "execution_count": 62
        }
      ]
    },
    {
      "cell_type": "code",
      "source": [
        "df_media_curto_prazo"
      ],
      "metadata": {
        "id": "Hj8rMiCMIZEB",
        "colab": {
          "base_uri": "https://localhost:8080/",
          "height": 423
        },
        "outputId": "48f73bc4-01af-4e5e-df6a-2ddb047d9c82"
      },
      "execution_count": null,
      "outputs": [
        {
          "output_type": "execute_result",
          "data": {
            "text/plain": [
              "          media\n",
              "0      1.708139\n",
              "1      1.711485\n",
              "2      1.736073\n",
              "3      1.780577\n",
              "4      1.835012\n",
              "...         ...\n",
              "1196  24.115000\n",
              "1197  24.391667\n",
              "1198  24.986667\n",
              "1199  24.931667\n",
              "1200  25.301667\n",
              "\n",
              "[1201 rows x 1 columns]"
            ],
            "text/html": [
              "\n",
              "  <div id=\"df-0d9e7072-8aa8-4c80-8509-1963e8158089\">\n",
              "    <div class=\"colab-df-container\">\n",
              "      <div>\n",
              "<style scoped>\n",
              "    .dataframe tbody tr th:only-of-type {\n",
              "        vertical-align: middle;\n",
              "    }\n",
              "\n",
              "    .dataframe tbody tr th {\n",
              "        vertical-align: top;\n",
              "    }\n",
              "\n",
              "    .dataframe thead th {\n",
              "        text-align: right;\n",
              "    }\n",
              "</style>\n",
              "<table border=\"1\" class=\"dataframe\">\n",
              "  <thead>\n",
              "    <tr style=\"text-align: right;\">\n",
              "      <th></th>\n",
              "      <th>media</th>\n",
              "    </tr>\n",
              "  </thead>\n",
              "  <tbody>\n",
              "    <tr>\n",
              "      <th>0</th>\n",
              "      <td>1.708139</td>\n",
              "    </tr>\n",
              "    <tr>\n",
              "      <th>1</th>\n",
              "      <td>1.711485</td>\n",
              "    </tr>\n",
              "    <tr>\n",
              "      <th>2</th>\n",
              "      <td>1.736073</td>\n",
              "    </tr>\n",
              "    <tr>\n",
              "      <th>3</th>\n",
              "      <td>1.780577</td>\n",
              "    </tr>\n",
              "    <tr>\n",
              "      <th>4</th>\n",
              "      <td>1.835012</td>\n",
              "    </tr>\n",
              "    <tr>\n",
              "      <th>...</th>\n",
              "      <td>...</td>\n",
              "    </tr>\n",
              "    <tr>\n",
              "      <th>1196</th>\n",
              "      <td>24.115000</td>\n",
              "    </tr>\n",
              "    <tr>\n",
              "      <th>1197</th>\n",
              "      <td>24.391667</td>\n",
              "    </tr>\n",
              "    <tr>\n",
              "      <th>1198</th>\n",
              "      <td>24.986667</td>\n",
              "    </tr>\n",
              "    <tr>\n",
              "      <th>1199</th>\n",
              "      <td>24.931667</td>\n",
              "    </tr>\n",
              "    <tr>\n",
              "      <th>1200</th>\n",
              "      <td>25.301667</td>\n",
              "    </tr>\n",
              "  </tbody>\n",
              "</table>\n",
              "<p>1201 rows × 1 columns</p>\n",
              "</div>\n",
              "      <button class=\"colab-df-convert\" onclick=\"convertToInteractive('df-0d9e7072-8aa8-4c80-8509-1963e8158089')\"\n",
              "              title=\"Convert this dataframe to an interactive table.\"\n",
              "              style=\"display:none;\">\n",
              "        \n",
              "  <svg xmlns=\"http://www.w3.org/2000/svg\" height=\"24px\"viewBox=\"0 0 24 24\"\n",
              "       width=\"24px\">\n",
              "    <path d=\"M0 0h24v24H0V0z\" fill=\"none\"/>\n",
              "    <path d=\"M18.56 5.44l.94 2.06.94-2.06 2.06-.94-2.06-.94-.94-2.06-.94 2.06-2.06.94zm-11 1L8.5 8.5l.94-2.06 2.06-.94-2.06-.94L8.5 2.5l-.94 2.06-2.06.94zm10 10l.94 2.06.94-2.06 2.06-.94-2.06-.94-.94-2.06-.94 2.06-2.06.94z\"/><path d=\"M17.41 7.96l-1.37-1.37c-.4-.4-.92-.59-1.43-.59-.52 0-1.04.2-1.43.59L10.3 9.45l-7.72 7.72c-.78.78-.78 2.05 0 2.83L4 21.41c.39.39.9.59 1.41.59.51 0 1.02-.2 1.41-.59l7.78-7.78 2.81-2.81c.8-.78.8-2.07 0-2.86zM5.41 20L4 18.59l7.72-7.72 1.47 1.35L5.41 20z\"/>\n",
              "  </svg>\n",
              "      </button>\n",
              "      \n",
              "  <style>\n",
              "    .colab-df-container {\n",
              "      display:flex;\n",
              "      flex-wrap:wrap;\n",
              "      gap: 12px;\n",
              "    }\n",
              "\n",
              "    .colab-df-convert {\n",
              "      background-color: #E8F0FE;\n",
              "      border: none;\n",
              "      border-radius: 50%;\n",
              "      cursor: pointer;\n",
              "      display: none;\n",
              "      fill: #1967D2;\n",
              "      height: 32px;\n",
              "      padding: 0 0 0 0;\n",
              "      width: 32px;\n",
              "    }\n",
              "\n",
              "    .colab-df-convert:hover {\n",
              "      background-color: #E2EBFA;\n",
              "      box-shadow: 0px 1px 2px rgba(60, 64, 67, 0.3), 0px 1px 3px 1px rgba(60, 64, 67, 0.15);\n",
              "      fill: #174EA6;\n",
              "    }\n",
              "\n",
              "    [theme=dark] .colab-df-convert {\n",
              "      background-color: #3B4455;\n",
              "      fill: #D2E3FC;\n",
              "    }\n",
              "\n",
              "    [theme=dark] .colab-df-convert:hover {\n",
              "      background-color: #434B5C;\n",
              "      box-shadow: 0px 1px 3px 1px rgba(0, 0, 0, 0.15);\n",
              "      filter: drop-shadow(0px 1px 2px rgba(0, 0, 0, 0.3));\n",
              "      fill: #FFFFFF;\n",
              "    }\n",
              "  </style>\n",
              "\n",
              "      <script>\n",
              "        const buttonEl =\n",
              "          document.querySelector('#df-0d9e7072-8aa8-4c80-8509-1963e8158089 button.colab-df-convert');\n",
              "        buttonEl.style.display =\n",
              "          google.colab.kernel.accessAllowed ? 'block' : 'none';\n",
              "\n",
              "        async function convertToInteractive(key) {\n",
              "          const element = document.querySelector('#df-0d9e7072-8aa8-4c80-8509-1963e8158089');\n",
              "          const dataTable =\n",
              "            await google.colab.kernel.invokeFunction('convertToInteractive',\n",
              "                                                     [key], {});\n",
              "          if (!dataTable) return;\n",
              "\n",
              "          const docLinkHtml = 'Like what you see? Visit the ' +\n",
              "            '<a target=\"_blank\" href=https://colab.research.google.com/notebooks/data_table.ipynb>data table notebook</a>'\n",
              "            + ' to learn more about interactive tables.';\n",
              "          element.innerHTML = '';\n",
              "          dataTable['output_type'] = 'display_data';\n",
              "          await google.colab.output.renderOutput(dataTable, element);\n",
              "          const docLink = document.createElement('div');\n",
              "          docLink.innerHTML = docLinkHtml;\n",
              "          element.appendChild(docLink);\n",
              "        }\n",
              "      </script>\n",
              "    </div>\n",
              "  </div>\n",
              "  "
            ]
          },
          "metadata": {},
          "execution_count": 75
        }
      ]
    },
    {
      "cell_type": "code",
      "source": [
        "#vamos calcular a ema baseado no preço de fechamento\n",
        "#EMA(curto prazo) = (Preço de fechamento - EMA(curto prazo anterior)) x (2 / (N + 1)) + EMA(curto prazo anterior)\n",
        "\n",
        "ema_curto_prazo_fechamento = (df_x[quant_dados_curto_prazo] - df_media_curto_prazo['media']) * (2 / (quant_dados_curto_prazo + 1)) + df_media_curto_prazo['media']"
      ],
      "metadata": {
        "id": "3FnEiWNYOwSR"
      },
      "execution_count": null,
      "outputs": []
    },
    {
      "cell_type": "code",
      "source": [
        "ema_curto_prazo_fechamento"
      ],
      "metadata": {
        "colab": {
          "base_uri": "https://localhost:8080/"
        },
        "id": "z5f71naqLZi5",
        "outputId": "37c55ca1-b1a5-4c5b-dc38-1b47f2006e41"
      },
      "execution_count": null,
      "outputs": [
        {
          "output_type": "execute_result",
          "data": {
            "text/plain": [
              "0        1.726559\n",
              "1        1.756261\n",
              "2        1.789757\n",
              "3        1.837478\n",
              "4        1.844495\n",
              "          ...    \n",
              "1196    24.759286\n",
              "1197    24.742619\n",
              "1198    24.930477\n",
              "1199    25.442619\n",
              "1200    25.626905\n",
              "Length: 1201, dtype: float64"
            ]
          },
          "metadata": {},
          "execution_count": 112
        }
      ]
    },
    {
      "cell_type": "code",
      "source": [
        "#agora vamos calcular a ema de longo prazo, como eu desejo prever o proximo valor, devo fazer uma media movel de N valores -1 \n",
        "df_longo_prazo = df_x.drop([quant_dados_entrada-1], axis=1)\n",
        "df_media_longo_prazo = pd.DataFrame(df_longo_prazo.mean(axis=1), columns=['media'])\n",
        "#vamos calcular a ema baseado no preço de fechamento\n",
        "#EMA(longo_prazo) = (Preço de fechamento - EMA(longo_prazo anterior)) x (2 / (N + 1)) + EMA(longo_prazo anterior)\n",
        "\n",
        "ema_longo_prazo_fechamento = (df_x[quant_dados_entrada-1] - df_media_longo_prazo['media']) * (2 / (quant_dados_entrada + 1)) + df_media_longo_prazo['media']"
      ],
      "metadata": {
        "id": "ZX4fGfUyK75S"
      },
      "execution_count": null,
      "outputs": []
    },
    {
      "cell_type": "code",
      "source": [
        "#vamos calcular o MACD = EMA de curto prazo - EMA de longo prazo. \n",
        "df_macd =  ema_curto_prazo_fechamento - ema_longo_prazo_fechamento"
      ],
      "metadata": {
        "id": "qucZjqlVOw5Z"
      },
      "execution_count": null,
      "outputs": []
    },
    {
      "cell_type": "code",
      "source": [
        "df_macd"
      ],
      "metadata": {
        "colab": {
          "base_uri": "https://localhost:8080/"
        },
        "id": "SOGsOA1_Ms66",
        "outputId": "d9a2cf35-2540-492b-fcd3-e74b852b0985"
      },
      "execution_count": null,
      "outputs": [
        {
          "output_type": "execute_result",
          "data": {
            "text/plain": [
              "0      -0.095930\n",
              "1      -0.068607\n",
              "2      -0.011744\n",
              "3       0.026375\n",
              "4       0.024640\n",
              "          ...   \n",
              "1196   -0.320048\n",
              "1197   -0.158714\n",
              "1198    0.027810\n",
              "1199    0.607285\n",
              "1200    0.788238\n",
              "Length: 1201, dtype: float64"
            ]
          },
          "metadata": {},
          "execution_count": 119
        }
      ]
    },
    {
      "cell_type": "code",
      "source": [
        "plt.plot(df_y[1100:])\n",
        "plt.plot(media_movel[1100:])\n",
        "plt.plot(banda_inf_boll[1100:])\n",
        "plt.plot(banda_sup_boll[1100:])\n",
        "plt.plot(df_macd[1100:])\n",
        "#plt.plot(df_ema_curt_praz[1100:])\n",
        "#plt.plot(ind_forc_relat[1100:])\n",
        "\n",
        "plt.show\n"
      ],
      "metadata": {
        "colab": {
          "base_uri": "https://localhost:8080/",
          "height": 448
        },
        "id": "nVBwgLExKmsC",
        "outputId": "84d7ec00-e0a9-465f-ec9c-6433629cee9d"
      },
      "execution_count": null,
      "outputs": [
        {
          "output_type": "execute_result",
          "data": {
            "text/plain": [
              "<function matplotlib.pyplot.show(close=None, block=None)>"
            ]
          },
          "metadata": {},
          "execution_count": 120
        },
        {
          "output_type": "display_data",
          "data": {
            "text/plain": [
              "<Figure size 640x480 with 1 Axes>"
            ],
            "image/png": "[encoded data removed]"
          },
          "metadata": {}
        }
      ]
    },
    {
      "cell_type": "code",
      "source": [
        "plt.plot(df_macd)\n",
        "plt.show"
      ],
      "metadata": {
        "colab": {
          "base_uri": "https://localhost:8080/",
          "height": 448
        },
        "id": "NDotsKGAR5Eu",
        "outputId": "2af9b4ab-8435-4214-953a-1d8cd5f7939e"
      },
      "execution_count": null,
      "outputs": [
        {
          "output_type": "execute_result",
          "data": {
            "text/plain": [
              "<function matplotlib.pyplot.show(close=None, block=None)>"
            ]
          },
          "metadata": {},
          "execution_count": 122
        },
        {
          "output_type": "display_data",
          "data": {
            "text/plain": [
              "<Figure size 640x480 with 1 Axes>"
            ],
            "image/png": "[encoded data removed]"
          },
          "metadata": {}
        }
      ]
    },
    {
      "cell_type": "code",
      "source": [
        "plt.plot(ind_forc_relat)\n",
        "plt.show"
      ],
      "metadata": {
        "colab": {
          "base_uri": "https://localhost:8080/",
          "height": 448
        },
        "id": "_uJgvYMkSU5S",
        "outputId": "436218cd-2e38-41f6-9d67-f3a43e789fcf"
      },
      "execution_count": null,
      "outputs": [
        {
          "output_type": "execute_result",
          "data": {
            "text/plain": [
              "<function matplotlib.pyplot.show(close=None, block=None)>"
            ]
          },
          "metadata": {},
          "execution_count": 123
        },
        {
          "output_type": "display_data",
          "data": {
            "text/plain": [
              "<Figure size 640x480 with 1 Axes>"
            ],
            "image/png": "[encoded data removed]"
          },
          "metadata": {}
        }
      ]
    },
    {
      "cell_type": "code",
      "source": [
        "#Quando as médias divergem e se cruzam, dão um sinal de compra ou de venda, \n",
        "#mostrando que o mercado está tendendo a mudar de direção: Sinal de Compra:\n",
        "# a MME mais curta cruza para cima da MME mais longa. Sinal de Venda: a MME mais curta cruza para baixo da MME mais longa.\n",
        "plt.plot(df_y[1150:])\n",
        "#plt.plot(media_movel[1150:])\n",
        "#plt.plot(banda_inf_boll[1150:])\n",
        "#plt.plot(banda_sup_boll[1150:])\n",
        "plt.plot(ema_longo_prazo_fechamento[1150:])\n",
        "plt.plot(ema_curto_prazo_fechamento[1150:])\n",
        "#plt.plot(ind_forc_relat[1150:][1150:])\n",
        "\n",
        "plt.show()"
      ],
      "metadata": {
        "colab": {
          "base_uri": "https://localhost:8080/",
          "height": 430
        },
        "id": "Yit9aKJ4Ly55",
        "outputId": "38e2448c-abfd-4ecb-e967-a39985245c7a"
      },
      "execution_count": null,
      "outputs": [
        {
          "output_type": "display_data",
          "data": {
            "text/plain": [
              "<Figure size 640x480 with 1 Axes>"
            ],
            "image/png": "[encoded data removed]"
          },
          "metadata": {}
        }
      ]
    },
    {
      "cell_type": "code",
      "source": [],
      "metadata": {
        "id": "6-FJVn68TKVm"
      },
      "execution_count": null,
      "outputs": []
    }
  ]
}